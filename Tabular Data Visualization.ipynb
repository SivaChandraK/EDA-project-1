{
 "cells": [
  {
   "cell_type": "code",
   "execution_count": 48,
   "id": "205976cb",
   "metadata": {
    "tags": []
   },
   "outputs": [],
   "source": [
    "#import required libraries\n",
    "import seaborn as sns\n",
    "import matplotlib.pyplot as plt\n",
    "import plotly.express as px\n",
    "import pandas as pd\n",
    "import numpy as np"
   ]
  },
  {
   "cell_type": "markdown",
   "id": "f9941341-3149-4d0e-897b-aa0e36cce533",
   "metadata": {},
   "source": [
    "Global Confirmed covid cases, recovered and deaths - Loading the data used in this worksheet from Covid-19 CSV dataset file.\n",
    "\n",
    "\n",
    "Link: https://github.com/CSSEGISandData/COVID-19/tree/master/csse_covid_19_data/csse_covid_19_time_series"
   ]
  },
  {
   "cell_type": "markdown",
   "id": "4f148074-e966-4ac6-a46d-236c40735554",
   "metadata": {},
   "source": [
    "1.Data Loading"
   ]
  },
  {
   "cell_type": "code",
   "execution_count": 49,
   "id": "8ec69c57-7293-4e44-849c-ed2c7381dc74",
   "metadata": {
    "tags": []
   },
   "outputs": [],
   "source": [
    "data_confirmedcase = pd.read_csv(\"time_series_covid19_confirmed_global.csv\")"
   ]
  },
  {
   "cell_type": "code",
   "execution_count": 50,
   "id": "ec60eb46-9758-418f-b5fa-464f5a9dcc65",
   "metadata": {
    "tags": []
   },
   "outputs": [
    {
     "data": {
      "text/html": [
       "<div>\n",
       "<style scoped>\n",
       "    .dataframe tbody tr th:only-of-type {\n",
       "        vertical-align: middle;\n",
       "    }\n",
       "\n",
       "    .dataframe tbody tr th {\n",
       "        vertical-align: top;\n",
       "    }\n",
       "\n",
       "    .dataframe thead th {\n",
       "        text-align: right;\n",
       "    }\n",
       "</style>\n",
       "<table border=\"1\" class=\"dataframe\">\n",
       "  <thead>\n",
       "    <tr style=\"text-align: right;\">\n",
       "      <th></th>\n",
       "      <th>Province/State</th>\n",
       "      <th>Country/Region</th>\n",
       "      <th>Lat</th>\n",
       "      <th>Long</th>\n",
       "      <th>1/22/20</th>\n",
       "      <th>1/23/20</th>\n",
       "      <th>1/24/20</th>\n",
       "      <th>1/25/20</th>\n",
       "      <th>1/26/20</th>\n",
       "      <th>1/27/20</th>\n",
       "      <th>...</th>\n",
       "      <th>11/10/22</th>\n",
       "      <th>11/11/22</th>\n",
       "      <th>11/12/22</th>\n",
       "      <th>11/13/22</th>\n",
       "      <th>11/14/22</th>\n",
       "      <th>11/15/22</th>\n",
       "      <th>11/16/22</th>\n",
       "      <th>11/17/22</th>\n",
       "      <th>11/18/22</th>\n",
       "      <th>11/19/22</th>\n",
       "    </tr>\n",
       "  </thead>\n",
       "  <tbody>\n",
       "    <tr>\n",
       "      <th>0</th>\n",
       "      <td>NaN</td>\n",
       "      <td>Afghanistan</td>\n",
       "      <td>33.93911</td>\n",
       "      <td>67.709953</td>\n",
       "      <td>0</td>\n",
       "      <td>0</td>\n",
       "      <td>0</td>\n",
       "      <td>0</td>\n",
       "      <td>0</td>\n",
       "      <td>0</td>\n",
       "      <td>...</td>\n",
       "      <td>204287</td>\n",
       "      <td>204392</td>\n",
       "      <td>204417</td>\n",
       "      <td>204510</td>\n",
       "      <td>204610</td>\n",
       "      <td>204724</td>\n",
       "      <td>204820</td>\n",
       "      <td>204982</td>\n",
       "      <td>205009</td>\n",
       "      <td>205039</td>\n",
       "    </tr>\n",
       "    <tr>\n",
       "      <th>1</th>\n",
       "      <td>NaN</td>\n",
       "      <td>Albania</td>\n",
       "      <td>41.15330</td>\n",
       "      <td>20.168300</td>\n",
       "      <td>0</td>\n",
       "      <td>0</td>\n",
       "      <td>0</td>\n",
       "      <td>0</td>\n",
       "      <td>0</td>\n",
       "      <td>0</td>\n",
       "      <td>...</td>\n",
       "      <td>333103</td>\n",
       "      <td>333125</td>\n",
       "      <td>333138</td>\n",
       "      <td>333156</td>\n",
       "      <td>333161</td>\n",
       "      <td>333197</td>\n",
       "      <td>333215</td>\n",
       "      <td>333233</td>\n",
       "      <td>333233</td>\n",
       "      <td>333246</td>\n",
       "    </tr>\n",
       "    <tr>\n",
       "      <th>2</th>\n",
       "      <td>NaN</td>\n",
       "      <td>Algeria</td>\n",
       "      <td>28.03390</td>\n",
       "      <td>1.659600</td>\n",
       "      <td>0</td>\n",
       "      <td>0</td>\n",
       "      <td>0</td>\n",
       "      <td>0</td>\n",
       "      <td>0</td>\n",
       "      <td>0</td>\n",
       "      <td>...</td>\n",
       "      <td>270917</td>\n",
       "      <td>270924</td>\n",
       "      <td>270929</td>\n",
       "      <td>270939</td>\n",
       "      <td>270952</td>\n",
       "      <td>270969</td>\n",
       "      <td>270981</td>\n",
       "      <td>270996</td>\n",
       "      <td>270996</td>\n",
       "      <td>271011</td>\n",
       "    </tr>\n",
       "    <tr>\n",
       "      <th>3</th>\n",
       "      <td>NaN</td>\n",
       "      <td>Andorra</td>\n",
       "      <td>42.50630</td>\n",
       "      <td>1.521800</td>\n",
       "      <td>0</td>\n",
       "      <td>0</td>\n",
       "      <td>0</td>\n",
       "      <td>0</td>\n",
       "      <td>0</td>\n",
       "      <td>0</td>\n",
       "      <td>...</td>\n",
       "      <td>46664</td>\n",
       "      <td>46664</td>\n",
       "      <td>46664</td>\n",
       "      <td>46664</td>\n",
       "      <td>46664</td>\n",
       "      <td>46664</td>\n",
       "      <td>46824</td>\n",
       "      <td>46824</td>\n",
       "      <td>46824</td>\n",
       "      <td>46824</td>\n",
       "    </tr>\n",
       "    <tr>\n",
       "      <th>4</th>\n",
       "      <td>NaN</td>\n",
       "      <td>Angola</td>\n",
       "      <td>-11.20270</td>\n",
       "      <td>17.873900</td>\n",
       "      <td>0</td>\n",
       "      <td>0</td>\n",
       "      <td>0</td>\n",
       "      <td>0</td>\n",
       "      <td>0</td>\n",
       "      <td>0</td>\n",
       "      <td>...</td>\n",
       "      <td>103131</td>\n",
       "      <td>103131</td>\n",
       "      <td>103131</td>\n",
       "      <td>103131</td>\n",
       "      <td>103131</td>\n",
       "      <td>103131</td>\n",
       "      <td>103131</td>\n",
       "      <td>103131</td>\n",
       "      <td>103131</td>\n",
       "      <td>103131</td>\n",
       "    </tr>\n",
       "  </tbody>\n",
       "</table>\n",
       "<p>5 rows × 1037 columns</p>\n",
       "</div>"
      ],
      "text/plain": [
       "  Province/State Country/Region       Lat       Long  1/22/20  1/23/20  \\\n",
       "0            NaN    Afghanistan  33.93911  67.709953        0        0   \n",
       "1            NaN        Albania  41.15330  20.168300        0        0   \n",
       "2            NaN        Algeria  28.03390   1.659600        0        0   \n",
       "3            NaN        Andorra  42.50630   1.521800        0        0   \n",
       "4            NaN         Angola -11.20270  17.873900        0        0   \n",
       "\n",
       "   1/24/20  1/25/20  1/26/20  1/27/20  ...  11/10/22  11/11/22  11/12/22  \\\n",
       "0        0        0        0        0  ...    204287    204392    204417   \n",
       "1        0        0        0        0  ...    333103    333125    333138   \n",
       "2        0        0        0        0  ...    270917    270924    270929   \n",
       "3        0        0        0        0  ...     46664     46664     46664   \n",
       "4        0        0        0        0  ...    103131    103131    103131   \n",
       "\n",
       "   11/13/22  11/14/22  11/15/22  11/16/22  11/17/22  11/18/22  11/19/22  \n",
       "0    204510    204610    204724    204820    204982    205009    205039  \n",
       "1    333156    333161    333197    333215    333233    333233    333246  \n",
       "2    270939    270952    270969    270981    270996    270996    271011  \n",
       "3     46664     46664     46664     46824     46824     46824     46824  \n",
       "4    103131    103131    103131    103131    103131    103131    103131  \n",
       "\n",
       "[5 rows x 1037 columns]"
      ]
     },
     "execution_count": 50,
     "metadata": {},
     "output_type": "execute_result"
    }
   ],
   "source": [
    "data_confirmedcase.head()"
   ]
  },
  {
   "cell_type": "code",
   "execution_count": 51,
   "id": "c366979b",
   "metadata": {
    "tags": []
   },
   "outputs": [],
   "source": [
    "data_deathcase = pd.read_csv(\"time_series_covid19_deaths_global.csv\")"
   ]
  },
  {
   "cell_type": "code",
   "execution_count": 52,
   "id": "abf00899-7879-4423-ba1d-b9b0d80c1a71",
   "metadata": {
    "tags": []
   },
   "outputs": [
    {
     "data": {
      "text/html": [
       "<div>\n",
       "<style scoped>\n",
       "    .dataframe tbody tr th:only-of-type {\n",
       "        vertical-align: middle;\n",
       "    }\n",
       "\n",
       "    .dataframe tbody tr th {\n",
       "        vertical-align: top;\n",
       "    }\n",
       "\n",
       "    .dataframe thead th {\n",
       "        text-align: right;\n",
       "    }\n",
       "</style>\n",
       "<table border=\"1\" class=\"dataframe\">\n",
       "  <thead>\n",
       "    <tr style=\"text-align: right;\">\n",
       "      <th></th>\n",
       "      <th>Province/State</th>\n",
       "      <th>Country/Region</th>\n",
       "      <th>Lat</th>\n",
       "      <th>Long</th>\n",
       "      <th>1/22/20</th>\n",
       "      <th>1/23/20</th>\n",
       "      <th>1/24/20</th>\n",
       "      <th>1/25/20</th>\n",
       "      <th>1/26/20</th>\n",
       "      <th>1/27/20</th>\n",
       "      <th>...</th>\n",
       "      <th>11/10/22</th>\n",
       "      <th>11/11/22</th>\n",
       "      <th>11/12/22</th>\n",
       "      <th>11/13/22</th>\n",
       "      <th>11/14/22</th>\n",
       "      <th>11/15/22</th>\n",
       "      <th>11/16/22</th>\n",
       "      <th>11/17/22</th>\n",
       "      <th>11/18/22</th>\n",
       "      <th>11/19/22</th>\n",
       "    </tr>\n",
       "  </thead>\n",
       "  <tbody>\n",
       "    <tr>\n",
       "      <th>0</th>\n",
       "      <td>NaN</td>\n",
       "      <td>Afghanistan</td>\n",
       "      <td>33.93911</td>\n",
       "      <td>67.709953</td>\n",
       "      <td>0</td>\n",
       "      <td>0</td>\n",
       "      <td>0</td>\n",
       "      <td>0</td>\n",
       "      <td>0</td>\n",
       "      <td>0</td>\n",
       "      <td>...</td>\n",
       "      <td>7829</td>\n",
       "      <td>7829</td>\n",
       "      <td>7829</td>\n",
       "      <td>7829</td>\n",
       "      <td>7829</td>\n",
       "      <td>7829</td>\n",
       "      <td>7830</td>\n",
       "      <td>7830</td>\n",
       "      <td>7830</td>\n",
       "      <td>7831</td>\n",
       "    </tr>\n",
       "    <tr>\n",
       "      <th>1</th>\n",
       "      <td>NaN</td>\n",
       "      <td>Albania</td>\n",
       "      <td>41.15330</td>\n",
       "      <td>20.168300</td>\n",
       "      <td>0</td>\n",
       "      <td>0</td>\n",
       "      <td>0</td>\n",
       "      <td>0</td>\n",
       "      <td>0</td>\n",
       "      <td>0</td>\n",
       "      <td>...</td>\n",
       "      <td>3593</td>\n",
       "      <td>3593</td>\n",
       "      <td>3593</td>\n",
       "      <td>3593</td>\n",
       "      <td>3594</td>\n",
       "      <td>3594</td>\n",
       "      <td>3594</td>\n",
       "      <td>3594</td>\n",
       "      <td>3594</td>\n",
       "      <td>3594</td>\n",
       "    </tr>\n",
       "    <tr>\n",
       "      <th>2</th>\n",
       "      <td>NaN</td>\n",
       "      <td>Algeria</td>\n",
       "      <td>28.03390</td>\n",
       "      <td>1.659600</td>\n",
       "      <td>0</td>\n",
       "      <td>0</td>\n",
       "      <td>0</td>\n",
       "      <td>0</td>\n",
       "      <td>0</td>\n",
       "      <td>0</td>\n",
       "      <td>...</td>\n",
       "      <td>6881</td>\n",
       "      <td>6881</td>\n",
       "      <td>6881</td>\n",
       "      <td>6881</td>\n",
       "      <td>6881</td>\n",
       "      <td>6881</td>\n",
       "      <td>6881</td>\n",
       "      <td>6881</td>\n",
       "      <td>6881</td>\n",
       "      <td>6881</td>\n",
       "    </tr>\n",
       "    <tr>\n",
       "      <th>3</th>\n",
       "      <td>NaN</td>\n",
       "      <td>Andorra</td>\n",
       "      <td>42.50630</td>\n",
       "      <td>1.521800</td>\n",
       "      <td>0</td>\n",
       "      <td>0</td>\n",
       "      <td>0</td>\n",
       "      <td>0</td>\n",
       "      <td>0</td>\n",
       "      <td>0</td>\n",
       "      <td>...</td>\n",
       "      <td>155</td>\n",
       "      <td>155</td>\n",
       "      <td>155</td>\n",
       "      <td>155</td>\n",
       "      <td>155</td>\n",
       "      <td>155</td>\n",
       "      <td>156</td>\n",
       "      <td>156</td>\n",
       "      <td>156</td>\n",
       "      <td>156</td>\n",
       "    </tr>\n",
       "    <tr>\n",
       "      <th>4</th>\n",
       "      <td>NaN</td>\n",
       "      <td>Angola</td>\n",
       "      <td>-11.20270</td>\n",
       "      <td>17.873900</td>\n",
       "      <td>0</td>\n",
       "      <td>0</td>\n",
       "      <td>0</td>\n",
       "      <td>0</td>\n",
       "      <td>0</td>\n",
       "      <td>0</td>\n",
       "      <td>...</td>\n",
       "      <td>1917</td>\n",
       "      <td>1917</td>\n",
       "      <td>1917</td>\n",
       "      <td>1917</td>\n",
       "      <td>1917</td>\n",
       "      <td>1917</td>\n",
       "      <td>1917</td>\n",
       "      <td>1917</td>\n",
       "      <td>1917</td>\n",
       "      <td>1917</td>\n",
       "    </tr>\n",
       "  </tbody>\n",
       "</table>\n",
       "<p>5 rows × 1037 columns</p>\n",
       "</div>"
      ],
      "text/plain": [
       "  Province/State Country/Region       Lat       Long  1/22/20  1/23/20  \\\n",
       "0            NaN    Afghanistan  33.93911  67.709953        0        0   \n",
       "1            NaN        Albania  41.15330  20.168300        0        0   \n",
       "2            NaN        Algeria  28.03390   1.659600        0        0   \n",
       "3            NaN        Andorra  42.50630   1.521800        0        0   \n",
       "4            NaN         Angola -11.20270  17.873900        0        0   \n",
       "\n",
       "   1/24/20  1/25/20  1/26/20  1/27/20  ...  11/10/22  11/11/22  11/12/22  \\\n",
       "0        0        0        0        0  ...      7829      7829      7829   \n",
       "1        0        0        0        0  ...      3593      3593      3593   \n",
       "2        0        0        0        0  ...      6881      6881      6881   \n",
       "3        0        0        0        0  ...       155       155       155   \n",
       "4        0        0        0        0  ...      1917      1917      1917   \n",
       "\n",
       "   11/13/22  11/14/22  11/15/22  11/16/22  11/17/22  11/18/22  11/19/22  \n",
       "0      7829      7829      7829      7830      7830      7830      7831  \n",
       "1      3593      3594      3594      3594      3594      3594      3594  \n",
       "2      6881      6881      6881      6881      6881      6881      6881  \n",
       "3       155       155       155       156       156       156       156  \n",
       "4      1917      1917      1917      1917      1917      1917      1917  \n",
       "\n",
       "[5 rows x 1037 columns]"
      ]
     },
     "execution_count": 52,
     "metadata": {},
     "output_type": "execute_result"
    }
   ],
   "source": [
    "data_deathcase.head()"
   ]
  },
  {
   "cell_type": "code",
   "execution_count": 53,
   "id": "9491ae4f",
   "metadata": {
    "tags": []
   },
   "outputs": [],
   "source": [
    "data_recoveredcase = pd.read_csv(\"time_series_covid19_recovered_global.csv\")"
   ]
  },
  {
   "cell_type": "code",
   "execution_count": 54,
   "id": "4fe2434c-ad09-4785-87be-7cc69a9c47bc",
   "metadata": {
    "tags": []
   },
   "outputs": [
    {
     "data": {
      "text/html": [
       "<div>\n",
       "<style scoped>\n",
       "    .dataframe tbody tr th:only-of-type {\n",
       "        vertical-align: middle;\n",
       "    }\n",
       "\n",
       "    .dataframe tbody tr th {\n",
       "        vertical-align: top;\n",
       "    }\n",
       "\n",
       "    .dataframe thead th {\n",
       "        text-align: right;\n",
       "    }\n",
       "</style>\n",
       "<table border=\"1\" class=\"dataframe\">\n",
       "  <thead>\n",
       "    <tr style=\"text-align: right;\">\n",
       "      <th></th>\n",
       "      <th>Province/State</th>\n",
       "      <th>Country/Region</th>\n",
       "      <th>Lat</th>\n",
       "      <th>Long</th>\n",
       "      <th>1/22/20</th>\n",
       "      <th>1/23/20</th>\n",
       "      <th>1/24/20</th>\n",
       "      <th>1/25/20</th>\n",
       "      <th>1/26/20</th>\n",
       "      <th>1/27/20</th>\n",
       "      <th>...</th>\n",
       "      <th>11/10/22</th>\n",
       "      <th>11/11/22</th>\n",
       "      <th>11/12/22</th>\n",
       "      <th>11/13/22</th>\n",
       "      <th>11/14/22</th>\n",
       "      <th>11/15/22</th>\n",
       "      <th>11/16/22</th>\n",
       "      <th>11/17/22</th>\n",
       "      <th>11/18/22</th>\n",
       "      <th>11/19/22</th>\n",
       "    </tr>\n",
       "  </thead>\n",
       "  <tbody>\n",
       "    <tr>\n",
       "      <th>0</th>\n",
       "      <td>NaN</td>\n",
       "      <td>Afghanistan</td>\n",
       "      <td>33.93911</td>\n",
       "      <td>67.709953</td>\n",
       "      <td>0</td>\n",
       "      <td>0</td>\n",
       "      <td>0</td>\n",
       "      <td>0</td>\n",
       "      <td>0</td>\n",
       "      <td>0</td>\n",
       "      <td>...</td>\n",
       "      <td>0</td>\n",
       "      <td>0</td>\n",
       "      <td>0</td>\n",
       "      <td>0</td>\n",
       "      <td>0</td>\n",
       "      <td>0</td>\n",
       "      <td>0</td>\n",
       "      <td>0</td>\n",
       "      <td>0</td>\n",
       "      <td>0</td>\n",
       "    </tr>\n",
       "    <tr>\n",
       "      <th>1</th>\n",
       "      <td>NaN</td>\n",
       "      <td>Albania</td>\n",
       "      <td>41.15330</td>\n",
       "      <td>20.168300</td>\n",
       "      <td>0</td>\n",
       "      <td>0</td>\n",
       "      <td>0</td>\n",
       "      <td>0</td>\n",
       "      <td>0</td>\n",
       "      <td>0</td>\n",
       "      <td>...</td>\n",
       "      <td>0</td>\n",
       "      <td>0</td>\n",
       "      <td>0</td>\n",
       "      <td>0</td>\n",
       "      <td>0</td>\n",
       "      <td>0</td>\n",
       "      <td>0</td>\n",
       "      <td>0</td>\n",
       "      <td>0</td>\n",
       "      <td>0</td>\n",
       "    </tr>\n",
       "    <tr>\n",
       "      <th>2</th>\n",
       "      <td>NaN</td>\n",
       "      <td>Algeria</td>\n",
       "      <td>28.03390</td>\n",
       "      <td>1.659600</td>\n",
       "      <td>0</td>\n",
       "      <td>0</td>\n",
       "      <td>0</td>\n",
       "      <td>0</td>\n",
       "      <td>0</td>\n",
       "      <td>0</td>\n",
       "      <td>...</td>\n",
       "      <td>0</td>\n",
       "      <td>0</td>\n",
       "      <td>0</td>\n",
       "      <td>0</td>\n",
       "      <td>0</td>\n",
       "      <td>0</td>\n",
       "      <td>0</td>\n",
       "      <td>0</td>\n",
       "      <td>0</td>\n",
       "      <td>0</td>\n",
       "    </tr>\n",
       "    <tr>\n",
       "      <th>3</th>\n",
       "      <td>NaN</td>\n",
       "      <td>Andorra</td>\n",
       "      <td>42.50630</td>\n",
       "      <td>1.521800</td>\n",
       "      <td>0</td>\n",
       "      <td>0</td>\n",
       "      <td>0</td>\n",
       "      <td>0</td>\n",
       "      <td>0</td>\n",
       "      <td>0</td>\n",
       "      <td>...</td>\n",
       "      <td>0</td>\n",
       "      <td>0</td>\n",
       "      <td>0</td>\n",
       "      <td>0</td>\n",
       "      <td>0</td>\n",
       "      <td>0</td>\n",
       "      <td>0</td>\n",
       "      <td>0</td>\n",
       "      <td>0</td>\n",
       "      <td>0</td>\n",
       "    </tr>\n",
       "    <tr>\n",
       "      <th>4</th>\n",
       "      <td>NaN</td>\n",
       "      <td>Angola</td>\n",
       "      <td>-11.20270</td>\n",
       "      <td>17.873900</td>\n",
       "      <td>0</td>\n",
       "      <td>0</td>\n",
       "      <td>0</td>\n",
       "      <td>0</td>\n",
       "      <td>0</td>\n",
       "      <td>0</td>\n",
       "      <td>...</td>\n",
       "      <td>0</td>\n",
       "      <td>0</td>\n",
       "      <td>0</td>\n",
       "      <td>0</td>\n",
       "      <td>0</td>\n",
       "      <td>0</td>\n",
       "      <td>0</td>\n",
       "      <td>0</td>\n",
       "      <td>0</td>\n",
       "      <td>0</td>\n",
       "    </tr>\n",
       "  </tbody>\n",
       "</table>\n",
       "<p>5 rows × 1037 columns</p>\n",
       "</div>"
      ],
      "text/plain": [
       "  Province/State Country/Region       Lat       Long  1/22/20  1/23/20  \\\n",
       "0            NaN    Afghanistan  33.93911  67.709953        0        0   \n",
       "1            NaN        Albania  41.15330  20.168300        0        0   \n",
       "2            NaN        Algeria  28.03390   1.659600        0        0   \n",
       "3            NaN        Andorra  42.50630   1.521800        0        0   \n",
       "4            NaN         Angola -11.20270  17.873900        0        0   \n",
       "\n",
       "   1/24/20  1/25/20  1/26/20  1/27/20  ...  11/10/22  11/11/22  11/12/22  \\\n",
       "0        0        0        0        0  ...         0         0         0   \n",
       "1        0        0        0        0  ...         0         0         0   \n",
       "2        0        0        0        0  ...         0         0         0   \n",
       "3        0        0        0        0  ...         0         0         0   \n",
       "4        0        0        0        0  ...         0         0         0   \n",
       "\n",
       "   11/13/22  11/14/22  11/15/22  11/16/22  11/17/22  11/18/22  11/19/22  \n",
       "0         0         0         0         0         0         0         0  \n",
       "1         0         0         0         0         0         0         0  \n",
       "2         0         0         0         0         0         0         0  \n",
       "3         0         0         0         0         0         0         0  \n",
       "4         0         0         0         0         0         0         0  \n",
       "\n",
       "[5 rows x 1037 columns]"
      ]
     },
     "execution_count": 54,
     "metadata": {},
     "output_type": "execute_result"
    }
   ],
   "source": [
    "data_recoveredcase.head()"
   ]
  },
  {
   "cell_type": "markdown",
   "id": "c9b335dc-6704-40d7-b715-6723bf01a23f",
   "metadata": {},
   "source": [
    "2.Data Cleaning\n",
    "\n",
    "In this phase we are cleaning the data on all three data sets\n",
    "\n",
    "Since the above data has similar schema, so we will be applying a common function: def apply_data_cleaning()\n",
    "\n",
    "This method will help in Data Cleaning by dropping unneccessary columns, Re-Setting and Setting the index values. Also we will be updating date column to perform grouping on column(Axis=1). Finally, we will get the covid-19 cases number grouped by month"
   ]
  },
  {
   "cell_type": "code",
   "execution_count": 55,
   "id": "bb5f3674",
   "metadata": {
    "tags": []
   },
   "outputs": [],
   "source": [
    "#Data Cleaning process\n",
    "#creating a method in order to clean the data\n",
    "def data_cleaning(df):\n",
    "\n",
    "    #Dropping irrelevant Columns from the Data Frame \n",
    "    new_df = df.drop(['Province/State','Lat','Long'], axis=1)\n",
    "    \n",
    "    #Rename the Date columns to Year_Month to group them and generate monthly data for COVID numbers,\n",
    "    #which will provide an overview to analyze trends countrywise.\n",
    "    \n",
    "    date_columns = [pd.to_datetime(col).strftime(\"%Y_%m\") for col in new_df.columns[1:]]\n",
    "    new_df.columns = [new_df.columns[0]] + date_columns\n",
    "    print(new_df.head())\n",
    "    \n",
    "    result = new_df.groupby(new_df.columns, axis=1).sum()\n",
    "    \n",
    "    regions = result['Country/Region']\n",
    "    \n",
    "    #Dropping the Country/Region column\n",
    "    result.drop('Country/Region', axis=1, inplace = True)\n",
    "    \n",
    "    #Appending the Country/Region Column at the begining\n",
    "    result.insert(loc=0, column='Country/Region', value=regions)\n",
    "    \n",
    "    '''#Remove Any Zero Value Column'''\n",
    "    result = result.loc[(result != 0).any(axis=1)]\n",
    "    \n",
    "    '''Rename Country/Region column to Country'''\n",
    "    result.rename(columns={'Country/Region': \"Country\"}, inplace=True)\n",
    "\n",
    "\n",
    "    return result\n"
   ]
  },
  {
   "cell_type": "markdown",
   "id": "38c23b27-f2b7-4c5d-ba02-b3ad5d209dc7",
   "metadata": {
    "tags": []
   },
   "source": [
    "DATA CLEANING"
   ]
  },
  {
   "cell_type": "code",
   "execution_count": 56,
   "id": "8005f03d",
   "metadata": {
    "tags": []
   },
   "outputs": [
    {
     "name": "stdout",
     "output_type": "stream",
     "text": [
      "  Country/Region  2020_01  2020_01  2020_01  2020_01  2020_01  2020_01  \\\n",
      "0    Afghanistan        0        0        0        0        0        0   \n",
      "1        Albania        0        0        0        0        0        0   \n",
      "2        Algeria        0        0        0        0        0        0   \n",
      "3        Andorra        0        0        0        0        0        0   \n",
      "4         Angola        0        0        0        0        0        0   \n",
      "\n",
      "   2020_01  2020_01  2020_01  ...  2022_11  2022_11  2022_11  2022_11  \\\n",
      "0        0        0        0  ...   204287   204392   204417   204510   \n",
      "1        0        0        0  ...   333103   333125   333138   333156   \n",
      "2        0        0        0  ...   270917   270924   270929   270939   \n",
      "3        0        0        0  ...    46664    46664    46664    46664   \n",
      "4        0        0        0  ...   103131   103131   103131   103131   \n",
      "\n",
      "   2022_11  2022_11  2022_11  2022_11  2022_11  2022_11  \n",
      "0   204610   204724   204820   204982   205009   205039  \n",
      "1   333161   333197   333215   333233   333233   333246  \n",
      "2   270952   270969   270981   270996   270996   271011  \n",
      "3    46664    46664    46824    46824    46824    46824  \n",
      "4   103131   103131   103131   103131   103131   103131  \n",
      "\n",
      "[5 rows x 1034 columns]\n"
     ]
    },
    {
     "data": {
      "text/html": [
       "<div>\n",
       "<style scoped>\n",
       "    .dataframe tbody tr th:only-of-type {\n",
       "        vertical-align: middle;\n",
       "    }\n",
       "\n",
       "    .dataframe tbody tr th {\n",
       "        vertical-align: top;\n",
       "    }\n",
       "\n",
       "    .dataframe thead th {\n",
       "        text-align: right;\n",
       "    }\n",
       "</style>\n",
       "<table border=\"1\" class=\"dataframe\">\n",
       "  <thead>\n",
       "    <tr style=\"text-align: right;\">\n",
       "      <th></th>\n",
       "      <th>Country</th>\n",
       "      <th>2020_01</th>\n",
       "      <th>2020_02</th>\n",
       "      <th>2020_03</th>\n",
       "      <th>2020_04</th>\n",
       "      <th>2020_05</th>\n",
       "      <th>2020_06</th>\n",
       "      <th>2020_07</th>\n",
       "      <th>2020_08</th>\n",
       "      <th>2020_09</th>\n",
       "      <th>...</th>\n",
       "      <th>2022_02</th>\n",
       "      <th>2022_03</th>\n",
       "      <th>2022_04</th>\n",
       "      <th>2022_05</th>\n",
       "      <th>2022_06</th>\n",
       "      <th>2022_07</th>\n",
       "      <th>2022_08</th>\n",
       "      <th>2022_09</th>\n",
       "      <th>2022_10</th>\n",
       "      <th>2022_11</th>\n",
       "    </tr>\n",
       "  </thead>\n",
       "  <tbody>\n",
       "    <tr>\n",
       "      <th>0</th>\n",
       "      <td>Afghanistan</td>\n",
       "      <td>0</td>\n",
       "      <td>30</td>\n",
       "      <td>1141</td>\n",
       "      <td>25152</td>\n",
       "      <td>222720</td>\n",
       "      <td>751685</td>\n",
       "      <td>1079412</td>\n",
       "      <td>1165099</td>\n",
       "      <td>1166401</td>\n",
       "      <td>...</td>\n",
       "      <td>4759331</td>\n",
       "      <td>5465007</td>\n",
       "      <td>5350389</td>\n",
       "      <td>5562250</td>\n",
       "      <td>5441364</td>\n",
       "      <td>5699567</td>\n",
       "      <td>5876924</td>\n",
       "      <td>5899026</td>\n",
       "      <td>6237917</td>\n",
       "      <td>3879234</td>\n",
       "    </tr>\n",
       "    <tr>\n",
       "      <th>1</th>\n",
       "      <td>Albania</td>\n",
       "      <td>0</td>\n",
       "      <td>0</td>\n",
       "      <td>2232</td>\n",
       "      <td>15632</td>\n",
       "      <td>28873</td>\n",
       "      <td>50880</td>\n",
       "      <td>119660</td>\n",
       "      <td>230278</td>\n",
       "      <td>350148</td>\n",
       "      <td>...</td>\n",
       "      <td>7491180</td>\n",
       "      <td>8456152</td>\n",
       "      <td>8233062</td>\n",
       "      <td>8544921</td>\n",
       "      <td>8323448</td>\n",
       "      <td>9157061</td>\n",
       "      <td>9994918</td>\n",
       "      <td>9937170</td>\n",
       "      <td>10311515</td>\n",
       "      <td>6329113</td>\n",
       "    </tr>\n",
       "    <tr>\n",
       "      <th>2</th>\n",
       "      <td>Algeria</td>\n",
       "      <td>0</td>\n",
       "      <td>5</td>\n",
       "      <td>4823</td>\n",
       "      <td>69497</td>\n",
       "      <td>211394</td>\n",
       "      <td>337819</td>\n",
       "      <td>674286</td>\n",
       "      <td>1185076</td>\n",
       "      <td>1458290</td>\n",
       "      <td>...</td>\n",
       "      <td>7317457</td>\n",
       "      <td>8228823</td>\n",
       "      <td>7972081</td>\n",
       "      <td>8240659</td>\n",
       "      <td>7978934</td>\n",
       "      <td>8263246</td>\n",
       "      <td>8344656</td>\n",
       "      <td>8116912</td>\n",
       "      <td>8393236</td>\n",
       "      <td>5147409</td>\n",
       "    </tr>\n",
       "    <tr>\n",
       "      <th>3</th>\n",
       "      <td>Andorra</td>\n",
       "      <td>0</td>\n",
       "      <td>0</td>\n",
       "      <td>2787</td>\n",
       "      <td>19106</td>\n",
       "      <td>23498</td>\n",
       "      <td>25511</td>\n",
       "      <td>27174</td>\n",
       "      <td>31382</td>\n",
       "      <td>45275</td>\n",
       "      <td>...</td>\n",
       "      <td>1043282</td>\n",
       "      <td>1211183</td>\n",
       "      <td>1219226</td>\n",
       "      <td>1308981</td>\n",
       "      <td>1301800</td>\n",
       "      <td>1391434</td>\n",
       "      <td>1422901</td>\n",
       "      <td>1383692</td>\n",
       "      <td>1437700</td>\n",
       "      <td>886595</td>\n",
       "    </tr>\n",
       "    <tr>\n",
       "      <th>4</th>\n",
       "      <td>Angola</td>\n",
       "      <td>0</td>\n",
       "      <td>0</td>\n",
       "      <td>48</td>\n",
       "      <td>601</td>\n",
       "      <td>1639</td>\n",
       "      <td>4660</td>\n",
       "      <td>20049</td>\n",
       "      <td>59160</td>\n",
       "      <td>111469</td>\n",
       "      <td>...</td>\n",
       "      <td>2758810</td>\n",
       "      <td>3067646</td>\n",
       "      <td>2976936</td>\n",
       "      <td>3080191</td>\n",
       "      <td>2997507</td>\n",
       "      <td>3156309</td>\n",
       "      <td>3180376</td>\n",
       "      <td>3089970</td>\n",
       "      <td>3197061</td>\n",
       "      <td>1959489</td>\n",
       "    </tr>\n",
       "    <tr>\n",
       "      <th>...</th>\n",
       "      <td>...</td>\n",
       "      <td>...</td>\n",
       "      <td>...</td>\n",
       "      <td>...</td>\n",
       "      <td>...</td>\n",
       "      <td>...</td>\n",
       "      <td>...</td>\n",
       "      <td>...</td>\n",
       "      <td>...</td>\n",
       "      <td>...</td>\n",
       "      <td>...</td>\n",
       "      <td>...</td>\n",
       "      <td>...</td>\n",
       "      <td>...</td>\n",
       "      <td>...</td>\n",
       "      <td>...</td>\n",
       "      <td>...</td>\n",
       "      <td>...</td>\n",
       "      <td>...</td>\n",
       "      <td>...</td>\n",
       "      <td>...</td>\n",
       "    </tr>\n",
       "    <tr>\n",
       "      <th>284</th>\n",
       "      <td>West Bank and Gaza</td>\n",
       "      <td>0</td>\n",
       "      <td>0</td>\n",
       "      <td>1355</td>\n",
       "      <td>8597</td>\n",
       "      <td>12240</td>\n",
       "      <td>25938</td>\n",
       "      <td>230938</td>\n",
       "      <td>519581</td>\n",
       "      <td>965368</td>\n",
       "      <td>...</td>\n",
       "      <td>16945022</td>\n",
       "      <td>20253115</td>\n",
       "      <td>19697297</td>\n",
       "      <td>20377185</td>\n",
       "      <td>19748695</td>\n",
       "      <td>20721398</td>\n",
       "      <td>21583887</td>\n",
       "      <td>21079267</td>\n",
       "      <td>21788482</td>\n",
       "      <td>13357684</td>\n",
       "    </tr>\n",
       "    <tr>\n",
       "      <th>285</th>\n",
       "      <td>Winter Olympics 2022</td>\n",
       "      <td>0</td>\n",
       "      <td>0</td>\n",
       "      <td>0</td>\n",
       "      <td>0</td>\n",
       "      <td>0</td>\n",
       "      <td>0</td>\n",
       "      <td>0</td>\n",
       "      <td>0</td>\n",
       "      <td>0</td>\n",
       "      <td>...</td>\n",
       "      <td>13168</td>\n",
       "      <td>16534</td>\n",
       "      <td>16050</td>\n",
       "      <td>16585</td>\n",
       "      <td>16050</td>\n",
       "      <td>16585</td>\n",
       "      <td>16585</td>\n",
       "      <td>16050</td>\n",
       "      <td>16585</td>\n",
       "      <td>10165</td>\n",
       "    </tr>\n",
       "    <tr>\n",
       "      <th>286</th>\n",
       "      <td>Yemen</td>\n",
       "      <td>0</td>\n",
       "      <td>0</td>\n",
       "      <td>0</td>\n",
       "      <td>31</td>\n",
       "      <td>4101</td>\n",
       "      <td>23264</td>\n",
       "      <td>46644</td>\n",
       "      <td>57598</td>\n",
       "      <td>60327</td>\n",
       "      <td>...</td>\n",
       "      <td>323824</td>\n",
       "      <td>365528</td>\n",
       "      <td>354443</td>\n",
       "      <td>366394</td>\n",
       "      <td>354684</td>\n",
       "      <td>367093</td>\n",
       "      <td>369122</td>\n",
       "      <td>357963</td>\n",
       "      <td>370093</td>\n",
       "      <td>226947</td>\n",
       "    </tr>\n",
       "    <tr>\n",
       "      <th>287</th>\n",
       "      <td>Zambia</td>\n",
       "      <td>0</td>\n",
       "      <td>0</td>\n",
       "      <td>194</td>\n",
       "      <td>1754</td>\n",
       "      <td>18622</td>\n",
       "      <td>40038</td>\n",
       "      <td>90582</td>\n",
       "      <td>290970</td>\n",
       "      <td>410862</td>\n",
       "      <td>...</td>\n",
       "      <td>8668346</td>\n",
       "      <td>9772488</td>\n",
       "      <td>9548651</td>\n",
       "      <td>9940673</td>\n",
       "      <td>9712282</td>\n",
       "      <td>10162255</td>\n",
       "      <td>10288907</td>\n",
       "      <td>9998487</td>\n",
       "      <td>10342175</td>\n",
       "      <td>6340010</td>\n",
       "    </tr>\n",
       "    <tr>\n",
       "      <th>288</th>\n",
       "      <td>Zimbabwe</td>\n",
       "      <td>0</td>\n",
       "      <td>0</td>\n",
       "      <td>53</td>\n",
       "      <td>618</td>\n",
       "      <td>1871</td>\n",
       "      <td>12096</td>\n",
       "      <td>48113</td>\n",
       "      <td>163293</td>\n",
       "      <td>223571</td>\n",
       "      <td>...</td>\n",
       "      <td>6505869</td>\n",
       "      <td>7524023</td>\n",
       "      <td>7415825</td>\n",
       "      <td>7742999</td>\n",
       "      <td>7631884</td>\n",
       "      <td>7937540</td>\n",
       "      <td>7953397</td>\n",
       "      <td>7711011</td>\n",
       "      <td>7991341</td>\n",
       "      <td>4899967</td>\n",
       "    </tr>\n",
       "  </tbody>\n",
       "</table>\n",
       "<p>289 rows × 36 columns</p>\n",
       "</div>"
      ],
      "text/plain": [
       "                  Country  2020_01  2020_02  2020_03  2020_04  2020_05  \\\n",
       "0             Afghanistan        0       30     1141    25152   222720   \n",
       "1                 Albania        0        0     2232    15632    28873   \n",
       "2                 Algeria        0        5     4823    69497   211394   \n",
       "3                 Andorra        0        0     2787    19106    23498   \n",
       "4                  Angola        0        0       48      601     1639   \n",
       "..                    ...      ...      ...      ...      ...      ...   \n",
       "284    West Bank and Gaza        0        0     1355     8597    12240   \n",
       "285  Winter Olympics 2022        0        0        0        0        0   \n",
       "286                 Yemen        0        0        0       31     4101   \n",
       "287                Zambia        0        0      194     1754    18622   \n",
       "288              Zimbabwe        0        0       53      618     1871   \n",
       "\n",
       "     2020_06  2020_07  2020_08  2020_09  ...   2022_02   2022_03   2022_04  \\\n",
       "0     751685  1079412  1165099  1166401  ...   4759331   5465007   5350389   \n",
       "1      50880   119660   230278   350148  ...   7491180   8456152   8233062   \n",
       "2     337819   674286  1185076  1458290  ...   7317457   8228823   7972081   \n",
       "3      25511    27174    31382    45275  ...   1043282   1211183   1219226   \n",
       "4       4660    20049    59160   111469  ...   2758810   3067646   2976936   \n",
       "..       ...      ...      ...      ...  ...       ...       ...       ...   \n",
       "284    25938   230938   519581   965368  ...  16945022  20253115  19697297   \n",
       "285        0        0        0        0  ...     13168     16534     16050   \n",
       "286    23264    46644    57598    60327  ...    323824    365528    354443   \n",
       "287    40038    90582   290970   410862  ...   8668346   9772488   9548651   \n",
       "288    12096    48113   163293   223571  ...   6505869   7524023   7415825   \n",
       "\n",
       "      2022_05   2022_06   2022_07   2022_08   2022_09   2022_10   2022_11  \n",
       "0     5562250   5441364   5699567   5876924   5899026   6237917   3879234  \n",
       "1     8544921   8323448   9157061   9994918   9937170  10311515   6329113  \n",
       "2     8240659   7978934   8263246   8344656   8116912   8393236   5147409  \n",
       "3     1308981   1301800   1391434   1422901   1383692   1437700    886595  \n",
       "4     3080191   2997507   3156309   3180376   3089970   3197061   1959489  \n",
       "..        ...       ...       ...       ...       ...       ...       ...  \n",
       "284  20377185  19748695  20721398  21583887  21079267  21788482  13357684  \n",
       "285     16585     16050     16585     16585     16050     16585     10165  \n",
       "286    366394    354684    367093    369122    357963    370093    226947  \n",
       "287   9940673   9712282  10162255  10288907   9998487  10342175   6340010  \n",
       "288   7742999   7631884   7937540   7953397   7711011   7991341   4899967  \n",
       "\n",
       "[289 rows x 36 columns]"
      ]
     },
     "execution_count": 56,
     "metadata": {},
     "output_type": "execute_result"
    }
   ],
   "source": [
    "confirmed_cases = data_cleaning(data_confirmedcase)\n",
    "confirmed_cases"
   ]
  },
  {
   "cell_type": "code",
   "execution_count": 58,
   "id": "1c036398",
   "metadata": {
    "tags": []
   },
   "outputs": [
    {
     "name": "stdout",
     "output_type": "stream",
     "text": [
      "  Country/Region  2020_01  2020_01  2020_01  2020_01  2020_01  2020_01  \\\n",
      "0    Afghanistan        0        0        0        0        0        0   \n",
      "1        Albania        0        0        0        0        0        0   \n",
      "2        Algeria        0        0        0        0        0        0   \n",
      "3        Andorra        0        0        0        0        0        0   \n",
      "4         Angola        0        0        0        0        0        0   \n",
      "\n",
      "   2020_01  2020_01  2020_01  ...  2022_11  2022_11  2022_11  2022_11  \\\n",
      "0        0        0        0  ...     7829     7829     7829     7829   \n",
      "1        0        0        0  ...     3593     3593     3593     3593   \n",
      "2        0        0        0  ...     6881     6881     6881     6881   \n",
      "3        0        0        0  ...      155      155      155      155   \n",
      "4        0        0        0  ...     1917     1917     1917     1917   \n",
      "\n",
      "   2022_11  2022_11  2022_11  2022_11  2022_11  2022_11  \n",
      "0     7829     7829     7830     7830     7830     7831  \n",
      "1     3594     3594     3594     3594     3594     3594  \n",
      "2     6881     6881     6881     6881     6881     6881  \n",
      "3      155      155      156      156      156      156  \n",
      "4     1917     1917     1917     1917     1917     1917  \n",
      "\n",
      "[5 rows x 1034 columns]\n"
     ]
    },
    {
     "data": {
      "text/html": [
       "<div>\n",
       "<style scoped>\n",
       "    .dataframe tbody tr th:only-of-type {\n",
       "        vertical-align: middle;\n",
       "    }\n",
       "\n",
       "    .dataframe tbody tr th {\n",
       "        vertical-align: top;\n",
       "    }\n",
       "\n",
       "    .dataframe thead th {\n",
       "        text-align: right;\n",
       "    }\n",
       "</style>\n",
       "<table border=\"1\" class=\"dataframe\">\n",
       "  <thead>\n",
       "    <tr style=\"text-align: right;\">\n",
       "      <th></th>\n",
       "      <th>Country</th>\n",
       "      <th>2020_01</th>\n",
       "      <th>2020_02</th>\n",
       "      <th>2020_03</th>\n",
       "      <th>2020_04</th>\n",
       "      <th>2020_05</th>\n",
       "      <th>2020_06</th>\n",
       "      <th>2020_07</th>\n",
       "      <th>2020_08</th>\n",
       "      <th>2020_09</th>\n",
       "      <th>...</th>\n",
       "      <th>2022_02</th>\n",
       "      <th>2022_03</th>\n",
       "      <th>2022_04</th>\n",
       "      <th>2022_05</th>\n",
       "      <th>2022_06</th>\n",
       "      <th>2022_07</th>\n",
       "      <th>2022_08</th>\n",
       "      <th>2022_09</th>\n",
       "      <th>2022_10</th>\n",
       "      <th>2022_11</th>\n",
       "    </tr>\n",
       "  </thead>\n",
       "  <tbody>\n",
       "    <tr>\n",
       "      <th>0</th>\n",
       "      <td>Afghanistan</td>\n",
       "      <td>0</td>\n",
       "      <td>0</td>\n",
       "      <td>21</td>\n",
       "      <td>812</td>\n",
       "      <td>4924</td>\n",
       "      <td>14982</td>\n",
       "      <td>33439</td>\n",
       "      <td>42108</td>\n",
       "      <td>43060</td>\n",
       "      <td>...</td>\n",
       "      <td>210096</td>\n",
       "      <td>236979</td>\n",
       "      <td>230302</td>\n",
       "      <td>238432</td>\n",
       "      <td>231381</td>\n",
       "      <td>239718</td>\n",
       "      <td>240588</td>\n",
       "      <td>233728</td>\n",
       "      <td>242155</td>\n",
       "      <td>148729</td>\n",
       "    </tr>\n",
       "    <tr>\n",
       "      <th>1</th>\n",
       "      <td>Albania</td>\n",
       "      <td>0</td>\n",
       "      <td>0</td>\n",
       "      <td>91</td>\n",
       "      <td>728</td>\n",
       "      <td>975</td>\n",
       "      <td>1221</td>\n",
       "      <td>3302</td>\n",
       "      <td>6945</td>\n",
       "      <td>10286</td>\n",
       "      <td>...</td>\n",
       "      <td>95637</td>\n",
       "      <td>108045</td>\n",
       "      <td>104832</td>\n",
       "      <td>108400</td>\n",
       "      <td>104916</td>\n",
       "      <td>109091</td>\n",
       "      <td>110676</td>\n",
       "      <td>107586</td>\n",
       "      <td>111321</td>\n",
       "      <td>68273</td>\n",
       "    </tr>\n",
       "    <tr>\n",
       "      <th>2</th>\n",
       "      <td>Algeria</td>\n",
       "      <td>0</td>\n",
       "      <td>0</td>\n",
       "      <td>324</td>\n",
       "      <td>9197</td>\n",
       "      <td>16901</td>\n",
       "      <td>23600</td>\n",
       "      <td>32720</td>\n",
       "      <td>42428</td>\n",
       "      <td>48964</td>\n",
       "      <td>...</td>\n",
       "      <td>188533</td>\n",
       "      <td>212805</td>\n",
       "      <td>206227</td>\n",
       "      <td>213125</td>\n",
       "      <td>206250</td>\n",
       "      <td>213133</td>\n",
       "      <td>213211</td>\n",
       "      <td>206367</td>\n",
       "      <td>213301</td>\n",
       "      <td>130739</td>\n",
       "    </tr>\n",
       "    <tr>\n",
       "      <th>3</th>\n",
       "      <td>Andorra</td>\n",
       "      <td>0</td>\n",
       "      <td>0</td>\n",
       "      <td>39</td>\n",
       "      <td>917</td>\n",
       "      <td>1518</td>\n",
       "      <td>1545</td>\n",
       "      <td>1612</td>\n",
       "      <td>1632</td>\n",
       "      <td>1590</td>\n",
       "      <td>...</td>\n",
       "      <td>4169</td>\n",
       "      <td>4722</td>\n",
       "      <td>4590</td>\n",
       "      <td>4743</td>\n",
       "      <td>4590</td>\n",
       "      <td>4743</td>\n",
       "      <td>4772</td>\n",
       "      <td>4644</td>\n",
       "      <td>4805</td>\n",
       "      <td>2949</td>\n",
       "    </tr>\n",
       "    <tr>\n",
       "      <th>4</th>\n",
       "      <td>Angola</td>\n",
       "      <td>0</td>\n",
       "      <td>0</td>\n",
       "      <td>6</td>\n",
       "      <td>60</td>\n",
       "      <td>85</td>\n",
       "      <td>210</td>\n",
       "      <td>915</td>\n",
       "      <td>2627</td>\n",
       "      <td>4268</td>\n",
       "      <td>...</td>\n",
       "      <td>53138</td>\n",
       "      <td>58900</td>\n",
       "      <td>57000</td>\n",
       "      <td>58900</td>\n",
       "      <td>57000</td>\n",
       "      <td>59095</td>\n",
       "      <td>59407</td>\n",
       "      <td>57510</td>\n",
       "      <td>59427</td>\n",
       "      <td>36423</td>\n",
       "    </tr>\n",
       "    <tr>\n",
       "      <th>...</th>\n",
       "      <td>...</td>\n",
       "      <td>...</td>\n",
       "      <td>...</td>\n",
       "      <td>...</td>\n",
       "      <td>...</td>\n",
       "      <td>...</td>\n",
       "      <td>...</td>\n",
       "      <td>...</td>\n",
       "      <td>...</td>\n",
       "      <td>...</td>\n",
       "      <td>...</td>\n",
       "      <td>...</td>\n",
       "      <td>...</td>\n",
       "      <td>...</td>\n",
       "      <td>...</td>\n",
       "      <td>...</td>\n",
       "      <td>...</td>\n",
       "      <td>...</td>\n",
       "      <td>...</td>\n",
       "      <td>...</td>\n",
       "      <td>...</td>\n",
       "    </tr>\n",
       "    <tr>\n",
       "      <th>284</th>\n",
       "      <td>West Bank and Gaza</td>\n",
       "      <td>0</td>\n",
       "      <td>0</td>\n",
       "      <td>6</td>\n",
       "      <td>51</td>\n",
       "      <td>71</td>\n",
       "      <td>99</td>\n",
       "      <td>1465</td>\n",
       "      <td>3524</td>\n",
       "      <td>6972</td>\n",
       "      <td>...</td>\n",
       "      <td>148047</td>\n",
       "      <td>173924</td>\n",
       "      <td>169681</td>\n",
       "      <td>175406</td>\n",
       "      <td>169800</td>\n",
       "      <td>175627</td>\n",
       "      <td>176436</td>\n",
       "      <td>171186</td>\n",
       "      <td>176925</td>\n",
       "      <td>108452</td>\n",
       "    </tr>\n",
       "    <tr>\n",
       "      <th>285</th>\n",
       "      <td>Winter Olympics 2022</td>\n",
       "      <td>0</td>\n",
       "      <td>0</td>\n",
       "      <td>0</td>\n",
       "      <td>0</td>\n",
       "      <td>0</td>\n",
       "      <td>0</td>\n",
       "      <td>0</td>\n",
       "      <td>0</td>\n",
       "      <td>0</td>\n",
       "      <td>...</td>\n",
       "      <td>0</td>\n",
       "      <td>0</td>\n",
       "      <td>0</td>\n",
       "      <td>0</td>\n",
       "      <td>0</td>\n",
       "      <td>0</td>\n",
       "      <td>0</td>\n",
       "      <td>0</td>\n",
       "      <td>0</td>\n",
       "      <td>0</td>\n",
       "    </tr>\n",
       "    <tr>\n",
       "      <th>286</th>\n",
       "      <td>Yemen</td>\n",
       "      <td>0</td>\n",
       "      <td>0</td>\n",
       "      <td>0</td>\n",
       "      <td>2</td>\n",
       "      <td>786</td>\n",
       "      <td>5932</td>\n",
       "      <td>12932</td>\n",
       "      <td>16517</td>\n",
       "      <td>17436</td>\n",
       "      <td>...</td>\n",
       "      <td>58569</td>\n",
       "      <td>66326</td>\n",
       "      <td>64409</td>\n",
       "      <td>66619</td>\n",
       "      <td>64470</td>\n",
       "      <td>66623</td>\n",
       "      <td>66741</td>\n",
       "      <td>64668</td>\n",
       "      <td>66894</td>\n",
       "      <td>41018</td>\n",
       "    </tr>\n",
       "    <tr>\n",
       "      <th>287</th>\n",
       "      <td>Zambia</td>\n",
       "      <td>0</td>\n",
       "      <td>0</td>\n",
       "      <td>0</td>\n",
       "      <td>62</td>\n",
       "      <td>188</td>\n",
       "      <td>372</td>\n",
       "      <td>2609</td>\n",
       "      <td>7617</td>\n",
       "      <td>9478</td>\n",
       "      <td>...</td>\n",
       "      <td>110269</td>\n",
       "      <td>122804</td>\n",
       "      <td>119129</td>\n",
       "      <td>123453</td>\n",
       "      <td>119811</td>\n",
       "      <td>124324</td>\n",
       "      <td>124491</td>\n",
       "      <td>120507</td>\n",
       "      <td>124527</td>\n",
       "      <td>76323</td>\n",
       "    </tr>\n",
       "    <tr>\n",
       "      <th>288</th>\n",
       "      <td>Zimbabwe</td>\n",
       "      <td>0</td>\n",
       "      <td>0</td>\n",
       "      <td>9</td>\n",
       "      <td>86</td>\n",
       "      <td>124</td>\n",
       "      <td>142</td>\n",
       "      <td>721</td>\n",
       "      <td>4136</td>\n",
       "      <td>6617</td>\n",
       "      <td>...</td>\n",
       "      <td>150520</td>\n",
       "      <td>167954</td>\n",
       "      <td>163824</td>\n",
       "      <td>170042</td>\n",
       "      <td>165857</td>\n",
       "      <td>172562</td>\n",
       "      <td>173223</td>\n",
       "      <td>167925</td>\n",
       "      <td>173752</td>\n",
       "      <td>106514</td>\n",
       "    </tr>\n",
       "  </tbody>\n",
       "</table>\n",
       "<p>289 rows × 36 columns</p>\n",
       "</div>"
      ],
      "text/plain": [
       "                  Country  2020_01  2020_02  2020_03  2020_04  2020_05  \\\n",
       "0             Afghanistan        0        0       21      812     4924   \n",
       "1                 Albania        0        0       91      728      975   \n",
       "2                 Algeria        0        0      324     9197    16901   \n",
       "3                 Andorra        0        0       39      917     1518   \n",
       "4                  Angola        0        0        6       60       85   \n",
       "..                    ...      ...      ...      ...      ...      ...   \n",
       "284    West Bank and Gaza        0        0        6       51       71   \n",
       "285  Winter Olympics 2022        0        0        0        0        0   \n",
       "286                 Yemen        0        0        0        2      786   \n",
       "287                Zambia        0        0        0       62      188   \n",
       "288              Zimbabwe        0        0        9       86      124   \n",
       "\n",
       "     2020_06  2020_07  2020_08  2020_09  ...  2022_02  2022_03  2022_04  \\\n",
       "0      14982    33439    42108    43060  ...   210096   236979   230302   \n",
       "1       1221     3302     6945    10286  ...    95637   108045   104832   \n",
       "2      23600    32720    42428    48964  ...   188533   212805   206227   \n",
       "3       1545     1612     1632     1590  ...     4169     4722     4590   \n",
       "4        210      915     2627     4268  ...    53138    58900    57000   \n",
       "..       ...      ...      ...      ...  ...      ...      ...      ...   \n",
       "284       99     1465     3524     6972  ...   148047   173924   169681   \n",
       "285        0        0        0        0  ...        0        0        0   \n",
       "286     5932    12932    16517    17436  ...    58569    66326    64409   \n",
       "287      372     2609     7617     9478  ...   110269   122804   119129   \n",
       "288      142      721     4136     6617  ...   150520   167954   163824   \n",
       "\n",
       "     2022_05  2022_06  2022_07  2022_08  2022_09  2022_10  2022_11  \n",
       "0     238432   231381   239718   240588   233728   242155   148729  \n",
       "1     108400   104916   109091   110676   107586   111321    68273  \n",
       "2     213125   206250   213133   213211   206367   213301   130739  \n",
       "3       4743     4590     4743     4772     4644     4805     2949  \n",
       "4      58900    57000    59095    59407    57510    59427    36423  \n",
       "..       ...      ...      ...      ...      ...      ...      ...  \n",
       "284   175406   169800   175627   176436   171186   176925   108452  \n",
       "285        0        0        0        0        0        0        0  \n",
       "286    66619    64470    66623    66741    64668    66894    41018  \n",
       "287   123453   119811   124324   124491   120507   124527    76323  \n",
       "288   170042   165857   172562   173223   167925   173752   106514  \n",
       "\n",
       "[289 rows x 36 columns]"
      ]
     },
     "execution_count": 58,
     "metadata": {},
     "output_type": "execute_result"
    }
   ],
   "source": [
    "death_cases =data_cleaning(data_deathcase)\n",
    "death_cases"
   ]
  },
  {
   "cell_type": "code",
   "execution_count": 59,
   "id": "0fce99a3",
   "metadata": {
    "tags": []
   },
   "outputs": [
    {
     "name": "stdout",
     "output_type": "stream",
     "text": [
      "  Country/Region  2020_01  2020_01  2020_01  2020_01  2020_01  2020_01  \\\n",
      "0    Afghanistan        0        0        0        0        0        0   \n",
      "1        Albania        0        0        0        0        0        0   \n",
      "2        Algeria        0        0        0        0        0        0   \n",
      "3        Andorra        0        0        0        0        0        0   \n",
      "4         Angola        0        0        0        0        0        0   \n",
      "\n",
      "   2020_01  2020_01  2020_01  ...  2022_11  2022_11  2022_11  2022_11  \\\n",
      "0        0        0        0  ...        0        0        0        0   \n",
      "1        0        0        0  ...        0        0        0        0   \n",
      "2        0        0        0  ...        0        0        0        0   \n",
      "3        0        0        0  ...        0        0        0        0   \n",
      "4        0        0        0  ...        0        0        0        0   \n",
      "\n",
      "   2022_11  2022_11  2022_11  2022_11  2022_11  2022_11  \n",
      "0        0        0        0        0        0        0  \n",
      "1        0        0        0        0        0        0  \n",
      "2        0        0        0        0        0        0  \n",
      "3        0        0        0        0        0        0  \n",
      "4        0        0        0        0        0        0  \n",
      "\n",
      "[5 rows x 1034 columns]\n"
     ]
    },
    {
     "data": {
      "text/html": [
       "<div>\n",
       "<style scoped>\n",
       "    .dataframe tbody tr th:only-of-type {\n",
       "        vertical-align: middle;\n",
       "    }\n",
       "\n",
       "    .dataframe tbody tr th {\n",
       "        vertical-align: top;\n",
       "    }\n",
       "\n",
       "    .dataframe thead th {\n",
       "        text-align: right;\n",
       "    }\n",
       "</style>\n",
       "<table border=\"1\" class=\"dataframe\">\n",
       "  <thead>\n",
       "    <tr style=\"text-align: right;\">\n",
       "      <th></th>\n",
       "      <th>Country</th>\n",
       "      <th>2020_01</th>\n",
       "      <th>2020_02</th>\n",
       "      <th>2020_03</th>\n",
       "      <th>2020_04</th>\n",
       "      <th>2020_05</th>\n",
       "      <th>2020_06</th>\n",
       "      <th>2020_07</th>\n",
       "      <th>2020_08</th>\n",
       "      <th>2020_09</th>\n",
       "      <th>...</th>\n",
       "      <th>2022_02</th>\n",
       "      <th>2022_03</th>\n",
       "      <th>2022_04</th>\n",
       "      <th>2022_05</th>\n",
       "      <th>2022_06</th>\n",
       "      <th>2022_07</th>\n",
       "      <th>2022_08</th>\n",
       "      <th>2022_09</th>\n",
       "      <th>2022_10</th>\n",
       "      <th>2022_11</th>\n",
       "    </tr>\n",
       "  </thead>\n",
       "  <tbody>\n",
       "    <tr>\n",
       "      <th>0</th>\n",
       "      <td>Afghanistan</td>\n",
       "      <td>0</td>\n",
       "      <td>0</td>\n",
       "      <td>26</td>\n",
       "      <td>2927</td>\n",
       "      <td>24129</td>\n",
       "      <td>184768</td>\n",
       "      <td>688117</td>\n",
       "      <td>843438</td>\n",
       "      <td>949104</td>\n",
       "      <td>...</td>\n",
       "      <td>0</td>\n",
       "      <td>0</td>\n",
       "      <td>0</td>\n",
       "      <td>0</td>\n",
       "      <td>0</td>\n",
       "      <td>0</td>\n",
       "      <td>0</td>\n",
       "      <td>0</td>\n",
       "      <td>0</td>\n",
       "      <td>0</td>\n",
       "    </tr>\n",
       "    <tr>\n",
       "      <th>1</th>\n",
       "      <td>Albania</td>\n",
       "      <td>0</td>\n",
       "      <td>0</td>\n",
       "      <td>241</td>\n",
       "      <td>7902</td>\n",
       "      <td>21760</td>\n",
       "      <td>32742</td>\n",
       "      <td>67686</td>\n",
       "      <td>120294</td>\n",
       "      <td>200469</td>\n",
       "      <td>...</td>\n",
       "      <td>0</td>\n",
       "      <td>0</td>\n",
       "      <td>0</td>\n",
       "      <td>0</td>\n",
       "      <td>0</td>\n",
       "      <td>0</td>\n",
       "      <td>0</td>\n",
       "      <td>0</td>\n",
       "      <td>0</td>\n",
       "      <td>0</td>\n",
       "    </tr>\n",
       "    <tr>\n",
       "      <th>2</th>\n",
       "      <td>Algeria</td>\n",
       "      <td>0</td>\n",
       "      <td>0</td>\n",
       "      <td>594</td>\n",
       "      <td>24072</td>\n",
       "      <td>109804</td>\n",
       "      <td>233399</td>\n",
       "      <td>467472</td>\n",
       "      <td>826991</td>\n",
       "      <td>1026971</td>\n",
       "      <td>...</td>\n",
       "      <td>0</td>\n",
       "      <td>0</td>\n",
       "      <td>0</td>\n",
       "      <td>0</td>\n",
       "      <td>0</td>\n",
       "      <td>0</td>\n",
       "      <td>0</td>\n",
       "      <td>0</td>\n",
       "      <td>0</td>\n",
       "      <td>0</td>\n",
       "    </tr>\n",
       "    <tr>\n",
       "      <th>3</th>\n",
       "      <td>Andorra</td>\n",
       "      <td>0</td>\n",
       "      <td>0</td>\n",
       "      <td>37</td>\n",
       "      <td>5636</td>\n",
       "      <td>18505</td>\n",
       "      <td>23239</td>\n",
       "      <td>24877</td>\n",
       "      <td>26677</td>\n",
       "      <td>32128</td>\n",
       "      <td>...</td>\n",
       "      <td>0</td>\n",
       "      <td>0</td>\n",
       "      <td>0</td>\n",
       "      <td>0</td>\n",
       "      <td>0</td>\n",
       "      <td>0</td>\n",
       "      <td>0</td>\n",
       "      <td>0</td>\n",
       "      <td>0</td>\n",
       "      <td>0</td>\n",
       "    </tr>\n",
       "    <tr>\n",
       "      <th>4</th>\n",
       "      <td>Angola</td>\n",
       "      <td>0</td>\n",
       "      <td>0</td>\n",
       "      <td>1</td>\n",
       "      <td>129</td>\n",
       "      <td>466</td>\n",
       "      <td>1668</td>\n",
       "      <td>5708</td>\n",
       "      <td>22283</td>\n",
       "      <td>41899</td>\n",
       "      <td>...</td>\n",
       "      <td>0</td>\n",
       "      <td>0</td>\n",
       "      <td>0</td>\n",
       "      <td>0</td>\n",
       "      <td>0</td>\n",
       "      <td>0</td>\n",
       "      <td>0</td>\n",
       "      <td>0</td>\n",
       "      <td>0</td>\n",
       "      <td>0</td>\n",
       "    </tr>\n",
       "    <tr>\n",
       "      <th>...</th>\n",
       "      <td>...</td>\n",
       "      <td>...</td>\n",
       "      <td>...</td>\n",
       "      <td>...</td>\n",
       "      <td>...</td>\n",
       "      <td>...</td>\n",
       "      <td>...</td>\n",
       "      <td>...</td>\n",
       "      <td>...</td>\n",
       "      <td>...</td>\n",
       "      <td>...</td>\n",
       "      <td>...</td>\n",
       "      <td>...</td>\n",
       "      <td>...</td>\n",
       "      <td>...</td>\n",
       "      <td>...</td>\n",
       "      <td>...</td>\n",
       "      <td>...</td>\n",
       "      <td>...</td>\n",
       "      <td>...</td>\n",
       "      <td>...</td>\n",
       "    </tr>\n",
       "    <tr>\n",
       "      <th>269</th>\n",
       "      <td>West Bank and Gaza</td>\n",
       "      <td>0</td>\n",
       "      <td>0</td>\n",
       "      <td>208</td>\n",
       "      <td>1707</td>\n",
       "      <td>8724</td>\n",
       "      <td>12527</td>\n",
       "      <td>56636</td>\n",
       "      <td>308105</td>\n",
       "      <td>668084</td>\n",
       "      <td>...</td>\n",
       "      <td>0</td>\n",
       "      <td>0</td>\n",
       "      <td>0</td>\n",
       "      <td>0</td>\n",
       "      <td>0</td>\n",
       "      <td>0</td>\n",
       "      <td>0</td>\n",
       "      <td>0</td>\n",
       "      <td>0</td>\n",
       "      <td>0</td>\n",
       "    </tr>\n",
       "    <tr>\n",
       "      <th>270</th>\n",
       "      <td>Winter Olympics 2022</td>\n",
       "      <td>0</td>\n",
       "      <td>0</td>\n",
       "      <td>0</td>\n",
       "      <td>0</td>\n",
       "      <td>0</td>\n",
       "      <td>0</td>\n",
       "      <td>0</td>\n",
       "      <td>0</td>\n",
       "      <td>0</td>\n",
       "      <td>...</td>\n",
       "      <td>0</td>\n",
       "      <td>0</td>\n",
       "      <td>0</td>\n",
       "      <td>0</td>\n",
       "      <td>0</td>\n",
       "      <td>0</td>\n",
       "      <td>0</td>\n",
       "      <td>0</td>\n",
       "      <td>0</td>\n",
       "      <td>0</td>\n",
       "    </tr>\n",
       "    <tr>\n",
       "      <th>271</th>\n",
       "      <td>Yemen</td>\n",
       "      <td>0</td>\n",
       "      <td>0</td>\n",
       "      <td>0</td>\n",
       "      <td>1</td>\n",
       "      <td>134</td>\n",
       "      <td>5661</td>\n",
       "      <td>21371</td>\n",
       "      <td>30997</td>\n",
       "      <td>36687</td>\n",
       "      <td>...</td>\n",
       "      <td>0</td>\n",
       "      <td>0</td>\n",
       "      <td>0</td>\n",
       "      <td>0</td>\n",
       "      <td>0</td>\n",
       "      <td>0</td>\n",
       "      <td>0</td>\n",
       "      <td>0</td>\n",
       "      <td>0</td>\n",
       "      <td>0</td>\n",
       "    </tr>\n",
       "    <tr>\n",
       "      <th>272</th>\n",
       "      <td>Zambia</td>\n",
       "      <td>0</td>\n",
       "      <td>0</td>\n",
       "      <td>0</td>\n",
       "      <td>800</td>\n",
       "      <td>8376</td>\n",
       "      <td>32784</td>\n",
       "      <td>55223</td>\n",
       "      <td>253496</td>\n",
       "      <td>381094</td>\n",
       "      <td>...</td>\n",
       "      <td>0</td>\n",
       "      <td>0</td>\n",
       "      <td>0</td>\n",
       "      <td>0</td>\n",
       "      <td>0</td>\n",
       "      <td>0</td>\n",
       "      <td>0</td>\n",
       "      <td>0</td>\n",
       "      <td>0</td>\n",
       "      <td>0</td>\n",
       "    </tr>\n",
       "    <tr>\n",
       "      <th>273</th>\n",
       "      <td>Zimbabwe</td>\n",
       "      <td>0</td>\n",
       "      <td>0</td>\n",
       "      <td>0</td>\n",
       "      <td>42</td>\n",
       "      <td>470</td>\n",
       "      <td>2113</td>\n",
       "      <td>13001</td>\n",
       "      <td>95065</td>\n",
       "      <td>172489</td>\n",
       "      <td>...</td>\n",
       "      <td>0</td>\n",
       "      <td>0</td>\n",
       "      <td>0</td>\n",
       "      <td>0</td>\n",
       "      <td>0</td>\n",
       "      <td>0</td>\n",
       "      <td>0</td>\n",
       "      <td>0</td>\n",
       "      <td>0</td>\n",
       "      <td>0</td>\n",
       "    </tr>\n",
       "  </tbody>\n",
       "</table>\n",
       "<p>274 rows × 36 columns</p>\n",
       "</div>"
      ],
      "text/plain": [
       "                  Country  2020_01  2020_02  2020_03  2020_04  2020_05  \\\n",
       "0             Afghanistan        0        0       26     2927    24129   \n",
       "1                 Albania        0        0      241     7902    21760   \n",
       "2                 Algeria        0        0      594    24072   109804   \n",
       "3                 Andorra        0        0       37     5636    18505   \n",
       "4                  Angola        0        0        1      129      466   \n",
       "..                    ...      ...      ...      ...      ...      ...   \n",
       "269    West Bank and Gaza        0        0      208     1707     8724   \n",
       "270  Winter Olympics 2022        0        0        0        0        0   \n",
       "271                 Yemen        0        0        0        1      134   \n",
       "272                Zambia        0        0        0      800     8376   \n",
       "273              Zimbabwe        0        0        0       42      470   \n",
       "\n",
       "     2020_06  2020_07  2020_08  2020_09  ...  2022_02  2022_03  2022_04  \\\n",
       "0     184768   688117   843438   949104  ...        0        0        0   \n",
       "1      32742    67686   120294   200469  ...        0        0        0   \n",
       "2     233399   467472   826991  1026971  ...        0        0        0   \n",
       "3      23239    24877    26677    32128  ...        0        0        0   \n",
       "4       1668     5708    22283    41899  ...        0        0        0   \n",
       "..       ...      ...      ...      ...  ...      ...      ...      ...   \n",
       "269    12527    56636   308105   668084  ...        0        0        0   \n",
       "270        0        0        0        0  ...        0        0        0   \n",
       "271     5661    21371    30997    36687  ...        0        0        0   \n",
       "272    32784    55223   253496   381094  ...        0        0        0   \n",
       "273     2113    13001    95065   172489  ...        0        0        0   \n",
       "\n",
       "     2022_05  2022_06  2022_07  2022_08  2022_09  2022_10  2022_11  \n",
       "0          0        0        0        0        0        0        0  \n",
       "1          0        0        0        0        0        0        0  \n",
       "2          0        0        0        0        0        0        0  \n",
       "3          0        0        0        0        0        0        0  \n",
       "4          0        0        0        0        0        0        0  \n",
       "..       ...      ...      ...      ...      ...      ...      ...  \n",
       "269        0        0        0        0        0        0        0  \n",
       "270        0        0        0        0        0        0        0  \n",
       "271        0        0        0        0        0        0        0  \n",
       "272        0        0        0        0        0        0        0  \n",
       "273        0        0        0        0        0        0        0  \n",
       "\n",
       "[274 rows x 36 columns]"
      ]
     },
     "execution_count": 59,
     "metadata": {},
     "output_type": "execute_result"
    }
   ],
   "source": [
    "recovered_cases = data_cleaning(data_recoveredcase)\n",
    "recovered_cases"
   ]
  },
  {
   "cell_type": "markdown",
   "id": "8498dffc-9dad-447e-8480-95a263d49af9",
   "metadata": {},
   "source": [
    "DATA ANALYSIS and DATA AGGREGATION on all the Datasets.\n",
    "This function performs data analysis and aggregation on all three datasets.\n",
    "It uses data aggregation techniques such as sum() and groupby, as well as pivot_table \n",
    "and setting index to analyze the data at country level."
   ]
  },
  {
   "cell_type": "code",
   "execution_count": 60,
   "id": "945758a9",
   "metadata": {
    "tags": []
   },
   "outputs": [],
   "source": [
    "def data_analysis(covid_dataset):\n",
    "    actual_data = covid_dataset\n",
    "    \n",
    "    actual_data = actual_data.set_index('Country')\n",
    "\n",
    "    #Grouping the data on Country and finally aggregating the covid cases.\n",
    "    actual_data = actual_data.groupby('Country').sum()\n",
    "\n",
    "    #Reseting the index to organize result dataset\n",
    "    \n",
    "    df = actual_data.T.reset_index()\n",
    "    \n",
    "    #Rename the column and set index to Country Level.\n",
    "    \n",
    "    df = df.rename_axis(None, axis=1)\n",
    "    df.rename(columns={'index': \"Months\"}, inplace=True)\n",
    "    df['Months'] = pd.to_datetime(df['Months'], format='%Y_%m', errors='ignore')\n",
    "    '''\n",
    "    Pivot Table is another Data Aggregation Technique that provide setting index and aggregate column values\n",
    "    '''\n",
    "    df = df.pivot_table(index='Months')\n",
    "\n",
    "    '''\n",
    "    Sort Columns by Total Covid Cases\n",
    "    1. Sum all rows value and add new row at end\n",
    "    2. Sort Column based on last row\n",
    "    3. Drop Last Row.\n",
    "    '''\n",
    "    total = df.sum()\n",
    "    total.Months = 'Total'\n",
    "    df = df.append([total.transpose()])\n",
    "\n",
    "    '''\n",
    "    Reset Index and rename the index column to Months\n",
    "    '''\n",
    "    df = df.reset_index()\n",
    "    df.rename(columns={'index': \"Months\"}, inplace=True)\n",
    "    df['Months'] = pd.to_datetime(df['Months'], format='%Y_%m', errors='ignore')\n",
    "    #Setting Index over Months Column\n",
    "    df = df.set_index('Months')\n",
    "\n",
    "    #Sort Column based on Total Number of Covid Case.\n",
    "    df = df.sort_values(by = 0, axis = 1, ascending = False)\n",
    "\n",
    "    #Drop Last Row (SUM) from DataFrame.\n",
    "    result = df[:-1]\n",
    "    \n",
    "    '''Setting index type to datetime'''\n",
    "    result.index = pd.to_datetime(result.index)\n",
    "\n",
    "    return result\n"
   ]
  },
  {
   "cell_type": "code",
   "execution_count": 61,
   "id": "2f923133",
   "metadata": {
    "tags": []
   },
   "outputs": [
    {
     "name": "stderr",
     "output_type": "stream",
     "text": [
      "/var/folders/xn/b6j9nzwd1ydcxrtk5slsl2qm0000gn/T/ipykernel_5248/328720125.py:31: FutureWarning:\n",
      "\n",
      "The frame.append method is deprecated and will be removed from pandas in a future version. Use pandas.concat instead.\n",
      "\n"
     ]
    }
   ],
   "source": [
    "#Applying Technicques of Data processing on Confirmed cases dataset.\n",
    "cases_confirmed = data_analysis(confirmed_cases)"
   ]
  },
  {
   "cell_type": "code",
   "execution_count": 62,
   "id": "2fb1f653-5206-49e8-980c-32c732142833",
   "metadata": {
    "tags": []
   },
   "outputs": [
    {
     "data": {
      "text/html": [
       "<div>\n",
       "<style scoped>\n",
       "    .dataframe tbody tr th:only-of-type {\n",
       "        vertical-align: middle;\n",
       "    }\n",
       "\n",
       "    .dataframe tbody tr th {\n",
       "        vertical-align: top;\n",
       "    }\n",
       "\n",
       "    .dataframe thead th {\n",
       "        text-align: right;\n",
       "    }\n",
       "</style>\n",
       "<table border=\"1\" class=\"dataframe\">\n",
       "  <thead>\n",
       "    <tr style=\"text-align: right;\">\n",
       "      <th></th>\n",
       "      <th>US</th>\n",
       "      <th>India</th>\n",
       "      <th>Brazil</th>\n",
       "      <th>France</th>\n",
       "      <th>Germany</th>\n",
       "      <th>United Kingdom</th>\n",
       "      <th>Russia</th>\n",
       "      <th>Italy</th>\n",
       "      <th>Turkey</th>\n",
       "      <th>Spain</th>\n",
       "      <th>Korea, South</th>\n",
       "      <th>Argentina</th>\n",
       "    </tr>\n",
       "    <tr>\n",
       "      <th>Months</th>\n",
       "      <th></th>\n",
       "      <th></th>\n",
       "      <th></th>\n",
       "      <th></th>\n",
       "      <th></th>\n",
       "      <th></th>\n",
       "      <th></th>\n",
       "      <th></th>\n",
       "      <th></th>\n",
       "      <th></th>\n",
       "      <th></th>\n",
       "      <th></th>\n",
       "    </tr>\n",
       "  </thead>\n",
       "  <tbody>\n",
       "    <tr>\n",
       "      <th>2020-01-01</th>\n",
       "      <td>41</td>\n",
       "      <td>2</td>\n",
       "      <td>0</td>\n",
       "      <td>30</td>\n",
       "      <td>18</td>\n",
       "      <td>2</td>\n",
       "      <td>2</td>\n",
       "      <td>2</td>\n",
       "      <td>0</td>\n",
       "      <td>0</td>\n",
       "      <td>36</td>\n",
       "      <td>0</td>\n",
       "    </tr>\n",
       "    <tr>\n",
       "      <th>2020-02-01</th>\n",
       "      <td>402</td>\n",
       "      <td>84</td>\n",
       "      <td>5</td>\n",
       "      <td>466</td>\n",
       "      <td>526</td>\n",
       "      <td>606</td>\n",
       "      <td>58</td>\n",
       "      <td>3966</td>\n",
       "      <td>0</td>\n",
       "      <td>151</td>\n",
       "      <td>12128</td>\n",
       "      <td>0</td>\n",
       "    </tr>\n",
       "    <tr>\n",
       "      <th>2020-03-01</th>\n",
       "      <td>1121455</td>\n",
       "      <td>10252</td>\n",
       "      <td>37127</td>\n",
       "      <td>407934</td>\n",
       "      <td>483540</td>\n",
       "      <td>283038</td>\n",
       "      <td>12224</td>\n",
       "      <td>1209772</td>\n",
       "      <td>58776</td>\n",
       "      <td>742546</td>\n",
       "      <td>244918</td>\n",
       "      <td>6529</td>\n",
       "    </tr>\n",
       "    <tr>\n",
       "      <th>2020-04-01</th>\n",
       "      <td>19982229</td>\n",
       "      <td>447607</td>\n",
       "      <td>1048506</td>\n",
       "      <td>3456305</td>\n",
       "      <td>3737253</td>\n",
       "      <td>3327711</td>\n",
       "      <td>1129437</td>\n",
       "      <td>4928524</td>\n",
       "      <td>2098207</td>\n",
       "      <td>5236777</td>\n",
       "      <td>315431</td>\n",
       "      <td>77576</td>\n",
       "    </tr>\n",
       "    <tr>\n",
       "      <th>2020-05-01</th>\n",
       "      <td>45414977</td>\n",
       "      <td>3088494</td>\n",
       "      <td>7988757</td>\n",
       "      <td>5602183</td>\n",
       "      <td>5348664</td>\n",
       "      <td>7016557</td>\n",
       "      <td>8257093</td>\n",
       "      <td>6914863</td>\n",
       "      <td>4521709</td>\n",
       "      <td>7102653</td>\n",
       "      <td>342959</td>\n",
       "      <td>275556</td>\n",
       "    </tr>\n",
       "  </tbody>\n",
       "</table>\n",
       "</div>"
      ],
      "text/plain": [
       "                  US    India   Brazil   France  Germany  United Kingdom  \\\n",
       "Months                                                                     \n",
       "2020-01-01        41        2        0       30       18               2   \n",
       "2020-02-01       402       84        5      466      526             606   \n",
       "2020-03-01   1121455    10252    37127   407934   483540          283038   \n",
       "2020-04-01  19982229   447607  1048506  3456305  3737253         3327711   \n",
       "2020-05-01  45414977  3088494  7988757  5602183  5348664         7016557   \n",
       "\n",
       "             Russia    Italy   Turkey    Spain  Korea, South  Argentina  \n",
       "Months                                                                   \n",
       "2020-01-01        2        2        0        0            36          0  \n",
       "2020-02-01       58     3966        0      151         12128          0  \n",
       "2020-03-01    12224  1209772    58776   742546        244918       6529  \n",
       "2020-04-01  1129437  4928524  2098207  5236777        315431      77576  \n",
       "2020-05-01  8257093  6914863  4521709  7102653        342959     275556  "
      ]
     },
     "execution_count": 62,
     "metadata": {},
     "output_type": "execute_result"
    }
   ],
   "source": [
    "cases_confirmed = cases_confirmed[[col for col in cases_confirmed.columns[:12]]]\n",
    "cases_confirmed.head()"
   ]
  },
  {
   "cell_type": "code",
   "execution_count": 63,
   "id": "740e5415-5412-4fb6-adb5-1c692dcd521c",
   "metadata": {
    "tags": []
   },
   "outputs": [
    {
     "name": "stderr",
     "output_type": "stream",
     "text": [
      "/var/folders/xn/b6j9nzwd1ydcxrtk5slsl2qm0000gn/T/ipykernel_5248/328720125.py:31: FutureWarning:\n",
      "\n",
      "The frame.append method is deprecated and will be removed from pandas in a future version. Use pandas.concat instead.\n",
      "\n"
     ]
    }
   ],
   "source": [
    "#Applying Data processing on dealth cases dataset.\n",
    "\n",
    "death_result = data_analysis(death_cases)"
   ]
  },
  {
   "cell_type": "code",
   "execution_count": 64,
   "id": "1dc454b6-31f4-4876-bcb2-36e423ca6fbd",
   "metadata": {
    "tags": []
   },
   "outputs": [
    {
     "data": {
      "text/html": [
       "<div>\n",
       "<style scoped>\n",
       "    .dataframe tbody tr th:only-of-type {\n",
       "        vertical-align: middle;\n",
       "    }\n",
       "\n",
       "    .dataframe tbody tr th {\n",
       "        vertical-align: top;\n",
       "    }\n",
       "\n",
       "    .dataframe thead th {\n",
       "        text-align: right;\n",
       "    }\n",
       "</style>\n",
       "<table border=\"1\" class=\"dataframe\">\n",
       "  <thead>\n",
       "    <tr style=\"text-align: right;\">\n",
       "      <th></th>\n",
       "      <th>US</th>\n",
       "      <th>Brazil</th>\n",
       "      <th>India</th>\n",
       "      <th>Mexico</th>\n",
       "      <th>Russia</th>\n",
       "      <th>Peru</th>\n",
       "      <th>United Kingdom</th>\n",
       "      <th>Italy</th>\n",
       "      <th>France</th>\n",
       "      <th>Colombia</th>\n",
       "      <th>Iran</th>\n",
       "      <th>Indonesia</th>\n",
       "    </tr>\n",
       "    <tr>\n",
       "      <th>Months</th>\n",
       "      <th></th>\n",
       "      <th></th>\n",
       "      <th></th>\n",
       "      <th></th>\n",
       "      <th></th>\n",
       "      <th></th>\n",
       "      <th></th>\n",
       "      <th></th>\n",
       "      <th></th>\n",
       "      <th></th>\n",
       "      <th></th>\n",
       "      <th></th>\n",
       "    </tr>\n",
       "  </thead>\n",
       "  <tbody>\n",
       "    <tr>\n",
       "      <th>2020-01-01</th>\n",
       "      <td>0</td>\n",
       "      <td>0</td>\n",
       "      <td>0</td>\n",
       "      <td>0</td>\n",
       "      <td>0</td>\n",
       "      <td>0</td>\n",
       "      <td>2</td>\n",
       "      <td>0</td>\n",
       "      <td>0</td>\n",
       "      <td>0</td>\n",
       "      <td>0</td>\n",
       "      <td>0</td>\n",
       "    </tr>\n",
       "    <tr>\n",
       "      <th>2020-02-01</th>\n",
       "      <td>1</td>\n",
       "      <td>0</td>\n",
       "      <td>0</td>\n",
       "      <td>0</td>\n",
       "      <td>0</td>\n",
       "      <td>0</td>\n",
       "      <td>65</td>\n",
       "      <td>102</td>\n",
       "      <td>19</td>\n",
       "      <td>0</td>\n",
       "      <td>171</td>\n",
       "      <td>0</td>\n",
       "    </tr>\n",
       "    <tr>\n",
       "      <th>2020-03-01</th>\n",
       "      <td>26042</td>\n",
       "      <td>976</td>\n",
       "      <td>226</td>\n",
       "      <td>136</td>\n",
       "      <td>54</td>\n",
       "      <td>870</td>\n",
       "      <td>27899</td>\n",
       "      <td>116616</td>\n",
       "      <td>21323</td>\n",
       "      <td>68</td>\n",
       "      <td>34200</td>\n",
       "      <td>989</td>\n",
       "    </tr>\n",
       "    <tr>\n",
       "      <th>2020-04-01</th>\n",
       "      <td>1084940</td>\n",
       "      <td>66571</td>\n",
       "      <td>14417</td>\n",
       "      <td>19390</td>\n",
       "      <td>10123</td>\n",
       "      <td>50648</td>\n",
       "      <td>707463</td>\n",
       "      <td>644171</td>\n",
       "      <td>486576</td>\n",
       "      <td>4249</td>\n",
       "      <td>141323</td>\n",
       "      <td>14067</td>\n",
       "    </tr>\n",
       "    <tr>\n",
       "      <th>2020-05-01</th>\n",
       "      <td>2809336</td>\n",
       "      <td>510577</td>\n",
       "      <td>94154</td>\n",
       "      <td>165485</td>\n",
       "      <td>82313</td>\n",
       "      <td>388541</td>\n",
       "      <td>1469607</td>\n",
       "      <td>973585</td>\n",
       "      <td>845555</td>\n",
       "      <td>17976</td>\n",
       "      <td>215665</td>\n",
       "      <td>35759</td>\n",
       "    </tr>\n",
       "  </tbody>\n",
       "</table>\n",
       "</div>"
      ],
      "text/plain": [
       "                 US  Brazil  India  Mexico  Russia    Peru  United Kingdom  \\\n",
       "Months                                                                       \n",
       "2020-01-01        0       0      0       0       0       0               2   \n",
       "2020-02-01        1       0      0       0       0       0              65   \n",
       "2020-03-01    26042     976    226     136      54     870           27899   \n",
       "2020-04-01  1084940   66571  14417   19390   10123   50648          707463   \n",
       "2020-05-01  2809336  510577  94154  165485   82313  388541         1469607   \n",
       "\n",
       "             Italy  France  Colombia    Iran  Indonesia  \n",
       "Months                                                   \n",
       "2020-01-01       0       0         0       0          0  \n",
       "2020-02-01     102      19         0     171          0  \n",
       "2020-03-01  116616   21323        68   34200        989  \n",
       "2020-04-01  644171  486576      4249  141323      14067  \n",
       "2020-05-01  973585  845555     17976  215665      35759  "
      ]
     },
     "execution_count": 64,
     "metadata": {},
     "output_type": "execute_result"
    }
   ],
   "source": [
    "death_result = death_result[[col for col in death_result.columns[:12]]]\n",
    "death_result.head()"
   ]
  },
  {
   "cell_type": "code",
   "execution_count": 65,
   "id": "11b0ef86",
   "metadata": {
    "tags": []
   },
   "outputs": [
    {
     "name": "stderr",
     "output_type": "stream",
     "text": [
      "/var/folders/xn/b6j9nzwd1ydcxrtk5slsl2qm0000gn/T/ipykernel_5248/328720125.py:31: FutureWarning:\n",
      "\n",
      "The frame.append method is deprecated and will be removed from pandas in a future version. Use pandas.concat instead.\n",
      "\n"
     ]
    }
   ],
   "source": [
    "recovered_result = data_analysis(recovered_cases)"
   ]
  },
  {
   "cell_type": "code",
   "execution_count": 66,
   "id": "d45c80fc-5e6e-48ce-b61c-ea279f755feb",
   "metadata": {
    "tags": []
   },
   "outputs": [
    {
     "data": {
      "text/html": [
       "<div>\n",
       "<style scoped>\n",
       "    .dataframe tbody tr th:only-of-type {\n",
       "        vertical-align: middle;\n",
       "    }\n",
       "\n",
       "    .dataframe tbody tr th {\n",
       "        vertical-align: top;\n",
       "    }\n",
       "\n",
       "    .dataframe thead th {\n",
       "        text-align: right;\n",
       "    }\n",
       "</style>\n",
       "<table border=\"1\" class=\"dataframe\">\n",
       "  <thead>\n",
       "    <tr style=\"text-align: right;\">\n",
       "      <th></th>\n",
       "      <th>India</th>\n",
       "      <th>Brazil</th>\n",
       "      <th>Russia</th>\n",
       "      <th>Turkey</th>\n",
       "      <th>Italy</th>\n",
       "      <th>Colombia</th>\n",
       "      <th>Argentina</th>\n",
       "      <th>Germany</th>\n",
       "      <th>Iran</th>\n",
       "      <th>Mexico</th>\n",
       "      <th>US</th>\n",
       "      <th>Poland</th>\n",
       "    </tr>\n",
       "    <tr>\n",
       "      <th>Months</th>\n",
       "      <th></th>\n",
       "      <th></th>\n",
       "      <th></th>\n",
       "      <th></th>\n",
       "      <th></th>\n",
       "      <th></th>\n",
       "      <th></th>\n",
       "      <th></th>\n",
       "      <th></th>\n",
       "      <th></th>\n",
       "      <th></th>\n",
       "      <th></th>\n",
       "    </tr>\n",
       "  </thead>\n",
       "  <tbody>\n",
       "    <tr>\n",
       "      <th>2020-01-01</th>\n",
       "      <td>0</td>\n",
       "      <td>0</td>\n",
       "      <td>0</td>\n",
       "      <td>0</td>\n",
       "      <td>0</td>\n",
       "      <td>0</td>\n",
       "      <td>0</td>\n",
       "      <td>0</td>\n",
       "      <td>0</td>\n",
       "      <td>0</td>\n",
       "      <td>0</td>\n",
       "      <td>0</td>\n",
       "    </tr>\n",
       "    <tr>\n",
       "      <th>2020-02-01</th>\n",
       "      <td>42</td>\n",
       "      <td>0</td>\n",
       "      <td>36</td>\n",
       "      <td>0</td>\n",
       "      <td>145</td>\n",
       "      <td>0</td>\n",
       "      <td>0</td>\n",
       "      <td>174</td>\n",
       "      <td>294</td>\n",
       "      <td>0</td>\n",
       "      <td>88</td>\n",
       "      <td>0</td>\n",
       "    </tr>\n",
       "    <tr>\n",
       "      <th>2020-03-01</th>\n",
       "      <td>818</td>\n",
       "      <td>290</td>\n",
       "      <td>568</td>\n",
       "      <td>674</td>\n",
       "      <td>145571</td>\n",
       "      <td>109</td>\n",
       "      <td>875</td>\n",
       "      <td>68067</td>\n",
       "      <td>172400</td>\n",
       "      <td>157</td>\n",
       "      <td>19730</td>\n",
       "      <td>94</td>\n",
       "    </tr>\n",
       "    <tr>\n",
       "      <th>2020-04-01</th>\n",
       "      <td>85811</td>\n",
       "      <td>400893</td>\n",
       "      <td>96017</td>\n",
       "      <td>376670</td>\n",
       "      <td>1266518</td>\n",
       "      <td>17078</td>\n",
       "      <td>19590</td>\n",
       "      <td>2191330</td>\n",
       "      <td>1432550</td>\n",
       "      <td>94466</td>\n",
       "      <td>1747977</td>\n",
       "      <td>31234</td>\n",
       "    </tr>\n",
       "    <tr>\n",
       "      <th>2020-05-01</th>\n",
       "      <td>1216954</td>\n",
       "      <td>3206734</td>\n",
       "      <td>2281612</td>\n",
       "      <td>3146528</td>\n",
       "      <td>3706270</td>\n",
       "      <td>118612</td>\n",
       "      <td>84929</td>\n",
       "      <td>4664012</td>\n",
       "      <td>2942787</td>\n",
       "      <td>1048045</td>\n",
       "      <td>8720047</td>\n",
       "      <td>224239</td>\n",
       "    </tr>\n",
       "  </tbody>\n",
       "</table>\n",
       "</div>"
      ],
      "text/plain": [
       "              India   Brazil   Russia   Turkey    Italy  Colombia  Argentina  \\\n",
       "Months                                                                         \n",
       "2020-01-01        0        0        0        0        0         0          0   \n",
       "2020-02-01       42        0       36        0      145         0          0   \n",
       "2020-03-01      818      290      568      674   145571       109        875   \n",
       "2020-04-01    85811   400893    96017   376670  1266518     17078      19590   \n",
       "2020-05-01  1216954  3206734  2281612  3146528  3706270    118612      84929   \n",
       "\n",
       "            Germany     Iran   Mexico       US  Poland  \n",
       "Months                                                  \n",
       "2020-01-01        0        0        0        0       0  \n",
       "2020-02-01      174      294        0       88       0  \n",
       "2020-03-01    68067   172400      157    19730      94  \n",
       "2020-04-01  2191330  1432550    94466  1747977   31234  \n",
       "2020-05-01  4664012  2942787  1048045  8720047  224239  "
      ]
     },
     "execution_count": 66,
     "metadata": {},
     "output_type": "execute_result"
    }
   ],
   "source": [
    "recovered_result = recovered_result[[col for col in recovered_result.columns[:12]]]\n",
    "recovered_result.head()"
   ]
  },
  {
   "cell_type": "code",
   "execution_count": 67,
   "id": "37526710",
   "metadata": {
    "tags": []
   },
   "outputs": [],
   "source": [
    "\"\"\"combining the above data sets to draw a comparision on Confirmed vs Death vs Recovered Cases\"\"\"\n",
    "\n",
    "df1 = cases_confirmed.reset_index()\n",
    "df1['Type']='Confirmed'\n",
    "\n",
    "df2 = death_result.reset_index()\n",
    "df2['Type']='Death'\n",
    "\n",
    "df3 = recovered_result.reset_index()\n",
    "df3['Type']='Recovered'\n"
   ]
  },
  {
   "cell_type": "code",
   "execution_count": 68,
   "id": "509db160-6ccb-41fe-ae7a-f59ae793ffeb",
   "metadata": {
    "tags": []
   },
   "outputs": [],
   "source": [
    "merge = pd.concat([ df1[['Months','Type','US']], df2[['Months','Type','US']],\n",
    "                     df3[['Months','Type','US']] ])"
   ]
  },
  {
   "cell_type": "code",
   "execution_count": 69,
   "id": "00ab6875-f12c-49f0-a610-e373ff8c0b25",
   "metadata": {
    "tags": []
   },
   "outputs": [],
   "source": [
    "merge['Months'] = pd.to_datetime(merge['Months'])"
   ]
  },
  {
   "cell_type": "code",
   "execution_count": 70,
   "id": "c4a94b37-a63e-4ea5-876f-0ccf477f4a8c",
   "metadata": {
    "tags": []
   },
   "outputs": [],
   "source": [
    "merged_data = merge.set_index(['Months', 'Type']).unstack(1)"
   ]
  },
  {
   "cell_type": "code",
   "execution_count": 71,
   "id": "8cec7d9f-7de3-478c-923c-854e3e8952af",
   "metadata": {
    "tags": []
   },
   "outputs": [
    {
     "data": {
      "text/html": [
       "<div>\n",
       "<style scoped>\n",
       "    .dataframe tbody tr th:only-of-type {\n",
       "        vertical-align: middle;\n",
       "    }\n",
       "\n",
       "    .dataframe tbody tr th {\n",
       "        vertical-align: top;\n",
       "    }\n",
       "\n",
       "    .dataframe thead tr th {\n",
       "        text-align: left;\n",
       "    }\n",
       "\n",
       "    .dataframe thead tr:last-of-type th {\n",
       "        text-align: right;\n",
       "    }\n",
       "</style>\n",
       "<table border=\"1\" class=\"dataframe\">\n",
       "  <thead>\n",
       "    <tr>\n",
       "      <th></th>\n",
       "      <th colspan=\"3\" halign=\"left\">US</th>\n",
       "    </tr>\n",
       "    <tr>\n",
       "      <th>Type</th>\n",
       "      <th>Confirmed</th>\n",
       "      <th>Death</th>\n",
       "      <th>Recovered</th>\n",
       "    </tr>\n",
       "    <tr>\n",
       "      <th>Months</th>\n",
       "      <th></th>\n",
       "      <th></th>\n",
       "      <th></th>\n",
       "    </tr>\n",
       "  </thead>\n",
       "  <tbody>\n",
       "    <tr>\n",
       "      <th>2020-01-01</th>\n",
       "      <td>41</td>\n",
       "      <td>0</td>\n",
       "      <td>0</td>\n",
       "    </tr>\n",
       "    <tr>\n",
       "      <th>2020-02-01</th>\n",
       "      <td>402</td>\n",
       "      <td>1</td>\n",
       "      <td>88</td>\n",
       "    </tr>\n",
       "    <tr>\n",
       "      <th>2020-03-01</th>\n",
       "      <td>1121455</td>\n",
       "      <td>26042</td>\n",
       "      <td>19730</td>\n",
       "    </tr>\n",
       "    <tr>\n",
       "      <th>2020-04-01</th>\n",
       "      <td>19982229</td>\n",
       "      <td>1084940</td>\n",
       "      <td>1747977</td>\n",
       "    </tr>\n",
       "    <tr>\n",
       "      <th>2020-05-01</th>\n",
       "      <td>45414977</td>\n",
       "      <td>2809336</td>\n",
       "      <td>8720047</td>\n",
       "    </tr>\n",
       "    <tr>\n",
       "      <th>2020-06-01</th>\n",
       "      <td>64902919</td>\n",
       "      <td>3570789</td>\n",
       "      <td>17434297</td>\n",
       "    </tr>\n",
       "    <tr>\n",
       "      <th>2020-07-01</th>\n",
       "      <td>111253103</td>\n",
       "      <td>4323228</td>\n",
       "      <td>34028380</td>\n",
       "    </tr>\n",
       "    <tr>\n",
       "      <th>2020-08-01</th>\n",
       "      <td>166651874</td>\n",
       "      <td>5252589</td>\n",
       "      <td>56877502</td>\n",
       "    </tr>\n",
       "    <tr>\n",
       "      <th>2020-09-01</th>\n",
       "      <td>199761725</td>\n",
       "      <td>5854787</td>\n",
       "      <td>75486815</td>\n",
       "    </tr>\n",
       "    <tr>\n",
       "      <th>2020-10-01</th>\n",
       "      <td>251586955</td>\n",
       "      <td>6754952</td>\n",
       "      <td>99506279</td>\n",
       "    </tr>\n",
       "    <tr>\n",
       "      <th>2020-11-01</th>\n",
       "      <td>339194014</td>\n",
       "      <td>7477396</td>\n",
       "      <td>128470711</td>\n",
       "    </tr>\n",
       "    <tr>\n",
       "      <th>2020-12-01</th>\n",
       "      <td>528967240</td>\n",
       "      <td>9645411</td>\n",
       "      <td>74680002</td>\n",
       "    </tr>\n",
       "    <tr>\n",
       "      <th>2021-01-01</th>\n",
       "      <td>734394844</td>\n",
       "      <td>12372478</td>\n",
       "      <td>0</td>\n",
       "    </tr>\n",
       "    <tr>\n",
       "      <th>2021-02-01</th>\n",
       "      <td>777268966</td>\n",
       "      <td>13544012</td>\n",
       "      <td>0</td>\n",
       "    </tr>\n",
       "    <tr>\n",
       "      <th>2021-03-01</th>\n",
       "      <td>920062118</td>\n",
       "      <td>16527558</td>\n",
       "      <td>0</td>\n",
       "    </tr>\n",
       "    <tr>\n",
       "      <th>2021-04-01</th>\n",
       "      <td>948094486</td>\n",
       "      <td>16838728</td>\n",
       "      <td>0</td>\n",
       "    </tr>\n",
       "    <tr>\n",
       "      <th>2021-05-01</th>\n",
       "      <td>1023760647</td>\n",
       "      <td>18041543</td>\n",
       "      <td>0</td>\n",
       "    </tr>\n",
       "    <tr>\n",
       "      <th>2021-06-01</th>\n",
       "      <td>1008080762</td>\n",
       "      <td>17894211</td>\n",
       "      <td>0</td>\n",
       "    </tr>\n",
       "    <tr>\n",
       "      <th>2021-07-01</th>\n",
       "      <td>1061610660</td>\n",
       "      <td>18751027</td>\n",
       "      <td>0</td>\n",
       "    </tr>\n",
       "    <tr>\n",
       "      <th>2021-08-01</th>\n",
       "      <td>1151227645</td>\n",
       "      <td>19260024</td>\n",
       "      <td>0</td>\n",
       "    </tr>\n",
       "    <tr>\n",
       "      <th>2021-09-01</th>\n",
       "      <td>1250529351</td>\n",
       "      <td>20002791</td>\n",
       "      <td>0</td>\n",
       "    </tr>\n",
       "    <tr>\n",
       "      <th>2021-10-01</th>\n",
       "      <td>1393213805</td>\n",
       "      <td>22412389</td>\n",
       "      <td>0</td>\n",
       "    </tr>\n",
       "    <tr>\n",
       "      <th>2021-11-01</th>\n",
       "      <td>1420265527</td>\n",
       "      <td>22916938</td>\n",
       "      <td>0</td>\n",
       "    </tr>\n",
       "    <tr>\n",
       "      <th>2021-12-01</th>\n",
       "      <td>1578944786</td>\n",
       "      <td>24922904</td>\n",
       "      <td>0</td>\n",
       "    </tr>\n",
       "    <tr>\n",
       "      <th>2022-01-01</th>\n",
       "      <td>2047241248</td>\n",
       "      <td>26521284</td>\n",
       "      <td>0</td>\n",
       "    </tr>\n",
       "    <tr>\n",
       "      <th>2022-02-01</th>\n",
       "      <td>2181430604</td>\n",
       "      <td>25879456</td>\n",
       "      <td>0</td>\n",
       "    </tr>\n",
       "    <tr>\n",
       "      <th>2022-03-01</th>\n",
       "      <td>2472759123</td>\n",
       "      <td>30068982</td>\n",
       "      <td>0</td>\n",
       "    </tr>\n",
       "    <tr>\n",
       "      <th>2022-04-01</th>\n",
       "      <td>2423754980</td>\n",
       "      <td>29719610</td>\n",
       "      <td>0</td>\n",
       "    </tr>\n",
       "    <tr>\n",
       "      <th>2022-05-01</th>\n",
       "      <td>2569288645</td>\n",
       "      <td>31078501</td>\n",
       "      <td>0</td>\n",
       "    </tr>\n",
       "    <tr>\n",
       "      <th>2022-06-01</th>\n",
       "      <td>2582325795</td>\n",
       "      <td>30389202</td>\n",
       "      <td>0</td>\n",
       "    </tr>\n",
       "    <tr>\n",
       "      <th>2022-07-01</th>\n",
       "      <td>2775929760</td>\n",
       "      <td>31749115</td>\n",
       "      <td>0</td>\n",
       "    </tr>\n",
       "    <tr>\n",
       "      <th>2022-08-01</th>\n",
       "      <td>2887098278</td>\n",
       "      <td>32199751</td>\n",
       "      <td>0</td>\n",
       "    </tr>\n",
       "    <tr>\n",
       "      <th>2022-09-01</th>\n",
       "      <td>2866182755</td>\n",
       "      <td>31589445</td>\n",
       "      <td>0</td>\n",
       "    </tr>\n",
       "    <tr>\n",
       "      <th>2022-10-01</th>\n",
       "      <td>3006021205</td>\n",
       "      <td>33032054</td>\n",
       "      <td>0</td>\n",
       "    </tr>\n",
       "    <tr>\n",
       "      <th>2022-11-01</th>\n",
       "      <td>1860837159</td>\n",
       "      <td>20409192</td>\n",
       "      <td>0</td>\n",
       "    </tr>\n",
       "  </tbody>\n",
       "</table>\n",
       "</div>"
      ],
      "text/plain": [
       "                    US                     \n",
       "Type         Confirmed     Death  Recovered\n",
       "Months                                     \n",
       "2020-01-01          41         0          0\n",
       "2020-02-01         402         1         88\n",
       "2020-03-01     1121455     26042      19730\n",
       "2020-04-01    19982229   1084940    1747977\n",
       "2020-05-01    45414977   2809336    8720047\n",
       "2020-06-01    64902919   3570789   17434297\n",
       "2020-07-01   111253103   4323228   34028380\n",
       "2020-08-01   166651874   5252589   56877502\n",
       "2020-09-01   199761725   5854787   75486815\n",
       "2020-10-01   251586955   6754952   99506279\n",
       "2020-11-01   339194014   7477396  128470711\n",
       "2020-12-01   528967240   9645411   74680002\n",
       "2021-01-01   734394844  12372478          0\n",
       "2021-02-01   777268966  13544012          0\n",
       "2021-03-01   920062118  16527558          0\n",
       "2021-04-01   948094486  16838728          0\n",
       "2021-05-01  1023760647  18041543          0\n",
       "2021-06-01  1008080762  17894211          0\n",
       "2021-07-01  1061610660  18751027          0\n",
       "2021-08-01  1151227645  19260024          0\n",
       "2021-09-01  1250529351  20002791          0\n",
       "2021-10-01  1393213805  22412389          0\n",
       "2021-11-01  1420265527  22916938          0\n",
       "2021-12-01  1578944786  24922904          0\n",
       "2022-01-01  2047241248  26521284          0\n",
       "2022-02-01  2181430604  25879456          0\n",
       "2022-03-01  2472759123  30068982          0\n",
       "2022-04-01  2423754980  29719610          0\n",
       "2022-05-01  2569288645  31078501          0\n",
       "2022-06-01  2582325795  30389202          0\n",
       "2022-07-01  2775929760  31749115          0\n",
       "2022-08-01  2887098278  32199751          0\n",
       "2022-09-01  2866182755  31589445          0\n",
       "2022-10-01  3006021205  33032054          0\n",
       "2022-11-01  1860837159  20409192          0"
      ]
     },
     "execution_count": 71,
     "metadata": {},
     "output_type": "execute_result"
    }
   ],
   "source": [
    "merged_data.index = pd.to_datetime(cases_confirmed.index)\n",
    "merged_data"
   ]
  },
  {
   "cell_type": "markdown",
   "id": "1373fa1f-69d1-4f7e-a15a-d2e563d05714",
   "metadata": {
    "tags": []
   },
   "source": [
    "# DATA VISUALIZATION"
   ]
  },
  {
   "cell_type": "markdown",
   "id": "60f36fc0-068b-4bfa-8545-aaa824d2edfc",
   "metadata": {
    "tags": []
   },
   "source": [
    "This plot show a clear figure of the overall trend of Covid Confirmed cases of first 10 columns\n",
    "\n",
    "1. Basic Ploting & Plot.barh on Covid Confirmed cases across the world "
   ]
  },
  {
   "cell_type": "code",
   "execution_count": 72,
   "id": "70ccfb34-d1f5-49d8-9a46-4b64b2a180c0",
   "metadata": {
    "tags": []
   },
   "outputs": [
    {
     "data": {
      "text/plain": [
       "<Axes: xlabel='Months'>"
      ]
     },
     "execution_count": 72,
     "metadata": {},
     "output_type": "execute_result"
    },
    {
     "data": {
      "image/png": "[encoded data removed]",
      "text/plain": [
       "<Figure size 640x480 with 1 Axes>"
      ]
     },
     "metadata": {},
     "output_type": "display_data"
    }
   ],
   "source": [
    "cases_confirmed = cases_confirmed[[col for col in cases_confirmed.columns[:10]]]\n",
    "cases_confirmed.plot()"
   ]
  },
  {
   "cell_type": "code",
   "execution_count": 73,
   "id": "4aee3965",
   "metadata": {
    "tags": []
   },
   "outputs": [
    {
     "data": {
      "text/plain": [
       "<Axes: title={'center': 'Covid-19 Total Confirmed cases'}, ylabel='Months'>"
      ]
     },
     "execution_count": 73,
     "metadata": {},
     "output_type": "execute_result"
    },
    {
     "data": {
      "image/png": "[encoded data removed]",
      "text/plain": [
       "<Figure size 640x480 with 1 Axes>"
      ]
     },
     "metadata": {},
     "output_type": "display_data"
    }
   ],
   "source": [
    "cases_confirmed.head().plot.barh(title= 'Covid-19 Total Confirmed cases', stacked = True)"
   ]
  },
  {
   "cell_type": "markdown",
   "id": "9107e1d9-9783-4ba0-81b9-40fa2d5f5996",
   "metadata": {
    "tags": []
   },
   "source": [
    "This plot displays the total number of Covid-19 deaths across the world, shown through a bar graph."
   ]
  },
  {
   "cell_type": "code",
   "execution_count": 74,
   "id": "2955255e-5499-46d3-a5db-984e6b47948d",
   "metadata": {
    "tags": []
   },
   "outputs": [
    {
     "data": {
      "text/plain": [
       "<Axes: xlabel='Months'>"
      ]
     },
     "execution_count": 74,
     "metadata": {},
     "output_type": "execute_result"
    },
    {
     "data": {
      "image/png": "[encoded data removed]",
      "text/plain": [
       "<Figure size 640x480 with 1 Axes>"
      ]
     },
     "metadata": {},
     "output_type": "display_data"
    }
   ],
   "source": [
    "death_result = death_result[[col for col in death_result.columns[:10]]]\n",
    "death_result.plot()"
   ]
  },
  {
   "cell_type": "code",
   "execution_count": 75,
   "id": "8b77acb4",
   "metadata": {
    "tags": []
   },
   "outputs": [
    {
     "data": {
      "text/plain": [
       "<Axes: title={'center': 'Covid-19 Total Death cases'}, ylabel='Months'>"
      ]
     },
     "execution_count": 75,
     "metadata": {},
     "output_type": "execute_result"
    },
    {
     "data": {
      "image/png": "[encoded data removed]",
      "text/plain": [
       "<Figure size 640x480 with 1 Axes>"
      ]
     },
     "metadata": {},
     "output_type": "display_data"
    }
   ],
   "source": [
    "death_result.head().plot.barh(title= 'Covid-19 Total Death cases', stacked = True)"
   ]
  },
  {
   "cell_type": "markdown",
   "id": "5f8207f4-afbd-4d3b-a971-0181d986958d",
   "metadata": {
    "tags": []
   },
   "source": [
    "This plot show a clear figure of the overall trend of Covid Confirmed cases of first 10 columns\n",
    "\n",
    "Basic Ploting & Plot.barh on Covid recovered cases across the world "
   ]
  },
  {
   "cell_type": "code",
   "execution_count": 76,
   "id": "676de763-cb87-4d07-a22d-737ca81d313c",
   "metadata": {
    "tags": []
   },
   "outputs": [
    {
     "data": {
      "text/plain": [
       "<Axes: xlabel='Months'>"
      ]
     },
     "execution_count": 76,
     "metadata": {},
     "output_type": "execute_result"
    },
    {
     "data": {
      "image/png": "[encoded data removed]",
      "text/plain": [
       "<Figure size 640x480 with 1 Axes>"
      ]
     },
     "metadata": {},
     "output_type": "display_data"
    }
   ],
   "source": [
    "recovered_result = recovered_result[[col for col in recovered_result.columns[:10]]]\n",
    "recovered_result.plot()"
   ]
  },
  {
   "cell_type": "code",
   "execution_count": 77,
   "id": "9a318794",
   "metadata": {
    "tags": []
   },
   "outputs": [
    {
     "data": {
      "text/plain": [
       "<Axes: title={'center': 'Covid-19 Total Recovered cases'}, ylabel='Months'>"
      ]
     },
     "execution_count": 77,
     "metadata": {},
     "output_type": "execute_result"
    },
    {
     "data": {
      "image/png": "[encoded data removed]",
      "text/plain": [
       "<Figure size 640x480 with 1 Axes>"
      ]
     },
     "metadata": {},
     "output_type": "display_data"
    }
   ],
   "source": [
    "recovered_result.head().plot.barh(title= 'Covid-19 Total Recovered cases', stacked = True)"
   ]
  },
  {
   "cell_type": "markdown",
   "id": "8ccc5725-45b1-4f0b-a395-e02c7bea49ed",
   "metadata": {
    "tags": []
   },
   "source": [
    "This bar graph illustrates the total number of confirmed, death, and recovered cases of Covid-19 in the first 10 countries worldwide."
   ]
  },
  {
   "cell_type": "code",
   "execution_count": 78,
   "id": "61fe9b18-d0a8-4b85-bdef-90c3dbbd6af8",
   "metadata": {
    "tags": []
   },
   "outputs": [
    {
     "data": {
      "image/png": "[encoded data removed]",
      "text/plain": [
       "<Figure size 1500x600 with 1 Axes>"
      ]
     },
     "metadata": {},
     "output_type": "display_data"
    }
   ],
   "source": [
    "merged_data.plot.bar(figsize=(15, 6));\n",
    "\n",
    "#Analyzing the trend of Covid confirmed cases, recoveries, and deaths over the years.\n",
    "barh_plot = merged_data.groupby(merged_data.index.year).sum()"
   ]
  },
  {
   "cell_type": "code",
   "execution_count": 79,
   "id": "140e2cbb-0ead-4af3-a439-79a2efd6f33e",
   "metadata": {
    "tags": []
   },
   "outputs": [
    {
     "data": {
      "image/png": "[encoded data removed]",
      "text/plain": [
       "<Figure size 640x480 with 1 Axes>"
      ]
     },
     "metadata": {},
     "output_type": "display_data"
    }
   ],
   "source": [
    "# Horizontal bar plot\n",
    "barh_plot.plot.barh(stacked=True);"
   ]
  },
  {
   "cell_type": "markdown",
   "id": "8af4b856-7b66-4f1d-9a24-7a3ca7a888dc",
   "metadata": {},
   "source": [
    "#2 TIME SERIES\n",
    "# Plot the time series of Covid-19 cases in the United States, resampled over time."
   ]
  },
  {
   "cell_type": "code",
   "execution_count": 80,
   "id": "10e46492",
   "metadata": {
    "tags": []
   },
   "outputs": [],
   "source": [
    "start, end = '2020-01', '2022-11'"
   ]
  },
  {
   "cell_type": "code",
   "execution_count": 81,
   "id": "8477b326-c73e-4b2e-9d4c-c59d3bd7dd21",
   "metadata": {
    "tags": []
   },
   "outputs": [
    {
     "data": {
      "image/png": "[encoded data removed]",
      "text/plain": [
       "<Figure size 1000x800 with 1 Axes>"
      ]
     },
     "metadata": {},
     "output_type": "display_data"
    }
   ],
   "source": [
    "fig, ax = plt.subplots(figsize=(10, 8))\n",
    "ax.plot(cases_confirmed.loc[start:end, 'US'],\n",
    "marker='o', markersize=8, linestyle='-', label='Monthly Resample time series')\n",
    "ax.set_ylabel('Covid Confirmed Cases')\n",
    "ax.legend();"
   ]
  },
  {
   "cell_type": "code",
   "execution_count": 82,
   "id": "2d0ba495",
   "metadata": {
    "tags": []
   },
   "outputs": [
    {
     "name": "stderr",
     "output_type": "stream",
     "text": [
      "/var/folders/xn/b6j9nzwd1ydcxrtk5slsl2qm0000gn/T/ipykernel_5248/3439641535.py:5: FutureWarning:\n",
      "\n",
      "The default value of numeric_only in DataFrame.sum is deprecated. In a future version, it will default to False. In addition, specifying 'numeric_only=None' is deprecated. Select only valid columns or specify the value of numeric_only to silence this warning.\n",
      "\n"
     ]
    },
    {
     "data": {
      "text/plain": [
       "<Axes: >"
      ]
     },
     "execution_count": 82,
     "metadata": {},
     "output_type": "execute_result"
    },
    {
     "data": {
      "image/png": "[encoded data removed]",
      "text/plain": [
       "<Figure size 1000x1000 with 1 Axes>"
      ]
     },
     "metadata": {},
     "output_type": "display_data"
    }
   ],
   "source": [
    "#Pie Charts are a great way to represent the proportion of different categories\n",
    "#of inspections in a visual format.\n",
    "\n",
    "pie_df = cases_confirmed.reset_index()\n",
    "pie_df = pie_df.sum()\n",
    "pie_df.plot(kind='pie',figsize=(10, 10), autopct='%1.1f%%', startangle=30, shadow=False)"
   ]
  },
  {
   "cell_type": "code",
   "execution_count": 85,
   "id": "a1ae0b66-7125-4e29-803d-c336976680b2",
   "metadata": {},
   "outputs": [
    {
     "data": {
      "application/vnd.plotly.v1+json": {
       "config": {
        "plotlyServerURL": "https://plot.ly"
       },
       "data": [
        {
         "coloraxis": "coloraxis",
         "hovertemplate": "US=%{x}<br>India=%{y}<br>count=%{z}<extra></extra>",
         "name": "",
         "nbinsx": 10,
         "nbinsy": 10,
         "type": "histogram2d",
         "x": [
          41,
          402,
          1121455,
          19982229,
          45414977,
          64902919,
          111253103,
          166651874,
          199761725,
          251586955,
          339194014,
          528967240,
          734394844,
          777268966,
          920062118,
          948094486,
          1023760647,
          1008080762,
          1061610660,
          1151227645,
          1250529351,
          1393213805,
          1420265527,
          1578944786,
          2047241248,
          2181430604,
          2472759123,
          2423754980,
          2569288645,
          2582325795,
          2775929760,
          2887098278,
          2866182755,
          3006021205,
          1860837159
         ],
         "xaxis": "x",
         "xbingroup": "x",
         "y": [
          2,
          84,
          10252,
          447607,
          3088494,
          10951713,
          32829678,
          82734792,
          151735176,
          228641810,
          265835139,
          308005491,
          326927936,
          305984490,
          357487053,
          447598593,
          760936972,
          886909272,
          962880627,
          999760992,
          1000653633,
          1055797723,
          1033703398,
          1076434872,
          1168520007,
          1192162187,
          1332839131,
          1291386605,
          1336835898,
          1298514945,
          1356350334,
          1372465208,
          1335670358,
          1383471408,
          848608057
         ],
         "yaxis": "y",
         "ybingroup": "y"
        }
       ],
       "layout": {
        "coloraxis": {
         "colorbar": {
          "title": {
           "text": "count"
          }
         },
         "colorscale": [
          [
           0,
           "#440154"
          ],
          [
           0.1111111111111111,
           "#482878"
          ],
          [
           0.2222222222222222,
           "#3e4989"
          ],
          [
           0.3333333333333333,
           "#31688e"
          ],
          [
           0.4444444444444444,
           "#26828e"
          ],
          [
           0.5555555555555556,
           "#1f9e89"
          ],
          [
           0.6666666666666666,
           "#35b779"
          ],
          [
           0.7777777777777778,
           "#6ece58"
          ],
          [
           0.8888888888888888,
           "#b5de2b"
          ],
          [
           1,
           "#fde725"
          ]
         ]
        },
        "legend": {
         "tracegroupgap": 0
        },
        "margin": {
         "t": 60
        },
        "template": {
         "data": {
          "bar": [
           {
            "error_x": {
             "color": "#2a3f5f"
            },
            "error_y": {
             "color": "#2a3f5f"
            },
            "marker": {
             "line": {
              "color": "#E5ECF6",
              "width": 0.5
             },
             "pattern": {
              "fillmode": "overlay",
              "size": 10,
              "solidity": 0.2
             }
            },
            "type": "bar"
           }
          ],
          "barpolar": [
           {
            "marker": {
             "line": {
              "color": "#E5ECF6",
              "width": 0.5
             },
             "pattern": {
              "fillmode": "overlay",
              "size": 10,
              "solidity": 0.2
             }
            },
            "type": "barpolar"
           }
          ],
          "carpet": [
           {
            "aaxis": {
             "endlinecolor": "#2a3f5f",
             "gridcolor": "white",
             "linecolor": "white",
             "minorgridcolor": "white",
             "startlinecolor": "#2a3f5f"
            },
            "baxis": {
             "endlinecolor": "#2a3f5f",
             "gridcolor": "white",
             "linecolor": "white",
             "minorgridcolor": "white",
             "startlinecolor": "#2a3f5f"
            },
            "type": "carpet"
           }
          ],
          "choropleth": [
           {
            "colorbar": {
             "outlinewidth": 0,
             "ticks": ""
            },
            "type": "choropleth"
           }
          ],
          "contour": [
           {
            "colorbar": {
             "outlinewidth": 0,
             "ticks": ""
            },
            "colorscale": [
             [
              0,
              "#0d0887"
             ],
             [
              0.1111111111111111,
              "#46039f"
             ],
             [
              0.2222222222222222,
              "#7201a8"
             ],
             [
              0.3333333333333333,
              "#9c179e"
             ],
             [
              0.4444444444444444,
              "#bd3786"
             ],
             [
              0.5555555555555556,
              "#d8576b"
             ],
             [
              0.6666666666666666,
              "#ed7953"
             ],
             [
              0.7777777777777778,
              "#fb9f3a"
             ],
             [
              0.8888888888888888,
              "#fdca26"
             ],
             [
              1,
              "#f0f921"
             ]
            ],
            "type": "contour"
           }
          ],
          "contourcarpet": [
           {
            "colorbar": {
             "outlinewidth": 0,
             "ticks": ""
            },
            "type": "contourcarpet"
           }
          ],
          "heatmap": [
           {
            "colorbar": {
             "outlinewidth": 0,
             "ticks": ""
            },
            "colorscale": [
             [
              0,
              "#0d0887"
             ],
             [
              0.1111111111111111,
              "#46039f"
             ],
             [
              0.2222222222222222,
              "#7201a8"
             ],
             [
              0.3333333333333333,
              "#9c179e"
             ],
             [
              0.4444444444444444,
              "#bd3786"
             ],
             [
              0.5555555555555556,
              "#d8576b"
             ],
             [
              0.6666666666666666,
              "#ed7953"
             ],
             [
              0.7777777777777778,
              "#fb9f3a"
             ],
             [
              0.8888888888888888,
              "#fdca26"
             ],
             [
              1,
              "#f0f921"
             ]
            ],
            "type": "heatmap"
           }
          ],
          "heatmapgl": [
           {
            "colorbar": {
             "outlinewidth": 0,
             "ticks": ""
            },
            "colorscale": [
             [
              0,
              "#0d0887"
             ],
             [
              0.1111111111111111,
              "#46039f"
             ],
             [
              0.2222222222222222,
              "#7201a8"
             ],
             [
              0.3333333333333333,
              "#9c179e"
             ],
             [
              0.4444444444444444,
              "#bd3786"
             ],
             [
              0.5555555555555556,
              "#d8576b"
             ],
             [
              0.6666666666666666,
              "#ed7953"
             ],
             [
              0.7777777777777778,
              "#fb9f3a"
             ],
             [
              0.8888888888888888,
              "#fdca26"
             ],
             [
              1,
              "#f0f921"
             ]
            ],
            "type": "heatmapgl"
           }
          ],
          "histogram": [
           {
            "marker": {
             "pattern": {
              "fillmode": "overlay",
              "size": 10,
              "solidity": 0.2
             }
            },
            "type": "histogram"
           }
          ],
          "histogram2d": [
           {
            "colorbar": {
             "outlinewidth": 0,
             "ticks": ""
            },
            "colorscale": [
             [
              0,
              "#0d0887"
             ],
             [
              0.1111111111111111,
              "#46039f"
             ],
             [
              0.2222222222222222,
              "#7201a8"
             ],
             [
              0.3333333333333333,
              "#9c179e"
             ],
             [
              0.4444444444444444,
              "#bd3786"
             ],
             [
              0.5555555555555556,
              "#d8576b"
             ],
             [
              0.6666666666666666,
              "#ed7953"
             ],
             [
              0.7777777777777778,
              "#fb9f3a"
             ],
             [
              0.8888888888888888,
              "#fdca26"
             ],
             [
              1,
              "#f0f921"
             ]
            ],
            "type": "histogram2d"
           }
          ],
          "histogram2dcontour": [
           {
            "colorbar": {
             "outlinewidth": 0,
             "ticks": ""
            },
            "colorscale": [
             [
              0,
              "#0d0887"
             ],
             [
              0.1111111111111111,
              "#46039f"
             ],
             [
              0.2222222222222222,
              "#7201a8"
             ],
             [
              0.3333333333333333,
              "#9c179e"
             ],
             [
              0.4444444444444444,
              "#bd3786"
             ],
             [
              0.5555555555555556,
              "#d8576b"
             ],
             [
              0.6666666666666666,
              "#ed7953"
             ],
             [
              0.7777777777777778,
              "#fb9f3a"
             ],
             [
              0.8888888888888888,
              "#fdca26"
             ],
             [
              1,
              "#f0f921"
             ]
            ],
            "type": "histogram2dcontour"
           }
          ],
          "mesh3d": [
           {
            "colorbar": {
             "outlinewidth": 0,
             "ticks": ""
            },
            "type": "mesh3d"
           }
          ],
          "parcoords": [
           {
            "line": {
             "colorbar": {
              "outlinewidth": 0,
              "ticks": ""
             }
            },
            "type": "parcoords"
           }
          ],
          "pie": [
           {
            "automargin": true,
            "type": "pie"
           }
          ],
          "scatter": [
           {
            "fillpattern": {
             "fillmode": "overlay",
             "size": 10,
             "solidity": 0.2
            },
            "type": "scatter"
           }
          ],
          "scatter3d": [
           {
            "line": {
             "colorbar": {
              "outlinewidth": 0,
              "ticks": ""
             }
            },
            "marker": {
             "colorbar": {
              "outlinewidth": 0,
              "ticks": ""
             }
            },
            "type": "scatter3d"
           }
          ],
          "scattercarpet": [
           {
            "marker": {
             "colorbar": {
              "outlinewidth": 0,
              "ticks": ""
             }
            },
            "type": "scattercarpet"
           }
          ],
          "scattergeo": [
           {
            "marker": {
             "colorbar": {
              "outlinewidth": 0,
              "ticks": ""
             }
            },
            "type": "scattergeo"
           }
          ],
          "scattergl": [
           {
            "marker": {
             "colorbar": {
              "outlinewidth": 0,
              "ticks": ""
             }
            },
            "type": "scattergl"
           }
          ],
          "scattermapbox": [
           {
            "marker": {
             "colorbar": {
              "outlinewidth": 0,
              "ticks": ""
             }
            },
            "type": "scattermapbox"
           }
          ],
          "scatterpolar": [
           {
            "marker": {
             "colorbar": {
              "outlinewidth": 0,
              "ticks": ""
             }
            },
            "type": "scatterpolar"
           }
          ],
          "scatterpolargl": [
           {
            "marker": {
             "colorbar": {
              "outlinewidth": 0,
              "ticks": ""
             }
            },
            "type": "scatterpolargl"
           }
          ],
          "scatterternary": [
           {
            "marker": {
             "colorbar": {
              "outlinewidth": 0,
              "ticks": ""
             }
            },
            "type": "scatterternary"
           }
          ],
          "surface": [
           {
            "colorbar": {
             "outlinewidth": 0,
             "ticks": ""
            },
            "colorscale": [
             [
              0,
              "#0d0887"
             ],
             [
              0.1111111111111111,
              "#46039f"
             ],
             [
              0.2222222222222222,
              "#7201a8"
             ],
             [
              0.3333333333333333,
              "#9c179e"
             ],
             [
              0.4444444444444444,
              "#bd3786"
             ],
             [
              0.5555555555555556,
              "#d8576b"
             ],
             [
              0.6666666666666666,
              "#ed7953"
             ],
             [
              0.7777777777777778,
              "#fb9f3a"
             ],
             [
              0.8888888888888888,
              "#fdca26"
             ],
             [
              1,
              "#f0f921"
             ]
            ],
            "type": "surface"
           }
          ],
          "table": [
           {
            "cells": {
             "fill": {
              "color": "#EBF0F8"
             },
             "line": {
              "color": "white"
             }
            },
            "header": {
             "fill": {
              "color": "#C8D4E3"
             },
             "line": {
              "color": "white"
             }
            },
            "type": "table"
           }
          ]
         },
         "layout": {
          "annotationdefaults": {
           "arrowcolor": "#2a3f5f",
           "arrowhead": 0,
           "arrowwidth": 1
          },
          "autotypenumbers": "strict",
          "coloraxis": {
           "colorbar": {
            "outlinewidth": 0,
            "ticks": ""
           }
          },
          "colorscale": {
           "diverging": [
            [
             0,
             "#8e0152"
            ],
            [
             0.1,
             "#c51b7d"
            ],
            [
             0.2,
             "#de77ae"
            ],
            [
             0.3,
             "#f1b6da"
            ],
            [
             0.4,
             "#fde0ef"
            ],
            [
             0.5,
             "#f7f7f7"
            ],
            [
             0.6,
             "#e6f5d0"
            ],
            [
             0.7,
             "#b8e186"
            ],
            [
             0.8,
             "#7fbc41"
            ],
            [
             0.9,
             "#4d9221"
            ],
            [
             1,
             "#276419"
            ]
           ],
           "sequential": [
            [
             0,
             "#0d0887"
            ],
            [
             0.1111111111111111,
             "#46039f"
            ],
            [
             0.2222222222222222,
             "#7201a8"
            ],
            [
             0.3333333333333333,
             "#9c179e"
            ],
            [
             0.4444444444444444,
             "#bd3786"
            ],
            [
             0.5555555555555556,
             "#d8576b"
            ],
            [
             0.6666666666666666,
             "#ed7953"
            ],
            [
             0.7777777777777778,
             "#fb9f3a"
            ],
            [
             0.8888888888888888,
             "#fdca26"
            ],
            [
             1,
             "#f0f921"
            ]
           ],
           "sequentialminus": [
            [
             0,
             "#0d0887"
            ],
            [
             0.1111111111111111,
             "#46039f"
            ],
            [
             0.2222222222222222,
             "#7201a8"
            ],
            [
             0.3333333333333333,
             "#9c179e"
            ],
            [
             0.4444444444444444,
             "#bd3786"
            ],
            [
             0.5555555555555556,
             "#d8576b"
            ],
            [
             0.6666666666666666,
             "#ed7953"
            ],
            [
             0.7777777777777778,
             "#fb9f3a"
            ],
            [
             0.8888888888888888,
             "#fdca26"
            ],
            [
             1,
             "#f0f921"
            ]
           ]
          },
          "colorway": [
           "#636efa",
           "#EF553B",
           "#00cc96",
           "#ab63fa",
           "#FFA15A",
           "#19d3f3",
           "#FF6692",
           "#B6E880",
           "#FF97FF",
           "#FECB52"
          ],
          "font": {
           "color": "#2a3f5f"
          },
          "geo": {
           "bgcolor": "white",
           "lakecolor": "white",
           "landcolor": "#E5ECF6",
           "showlakes": true,
           "showland": true,
           "subunitcolor": "white"
          },
          "hoverlabel": {
           "align": "left"
          },
          "hovermode": "closest",
          "mapbox": {
           "style": "light"
          },
          "paper_bgcolor": "white",
          "plot_bgcolor": "#E5ECF6",
          "polar": {
           "angularaxis": {
            "gridcolor": "white",
            "linecolor": "white",
            "ticks": ""
           },
           "bgcolor": "#E5ECF6",
           "radialaxis": {
            "gridcolor": "white",
            "linecolor": "white",
            "ticks": ""
           }
          },
          "scene": {
           "xaxis": {
            "backgroundcolor": "#E5ECF6",
            "gridcolor": "white",
            "gridwidth": 2,
            "linecolor": "white",
            "showbackground": true,
            "ticks": "",
            "zerolinecolor": "white"
           },
           "yaxis": {
            "backgroundcolor": "#E5ECF6",
            "gridcolor": "white",
            "gridwidth": 2,
            "linecolor": "white",
            "showbackground": true,
            "ticks": "",
            "zerolinecolor": "white"
           },
           "zaxis": {
            "backgroundcolor": "#E5ECF6",
            "gridcolor": "white",
            "gridwidth": 2,
            "linecolor": "white",
            "showbackground": true,
            "ticks": "",
            "zerolinecolor": "white"
           }
          },
          "shapedefaults": {
           "line": {
            "color": "#2a3f5f"
           }
          },
          "ternary": {
           "aaxis": {
            "gridcolor": "white",
            "linecolor": "white",
            "ticks": ""
           },
           "baxis": {
            "gridcolor": "white",
            "linecolor": "white",
            "ticks": ""
           },
           "bgcolor": "#E5ECF6",
           "caxis": {
            "gridcolor": "white",
            "linecolor": "white",
            "ticks": ""
           }
          },
          "title": {
           "x": 0.05
          },
          "xaxis": {
           "automargin": true,
           "gridcolor": "white",
           "linecolor": "white",
           "ticks": "",
           "title": {
            "standoff": 15
           },
           "zerolinecolor": "white",
           "zerolinewidth": 2
          },
          "yaxis": {
           "automargin": true,
           "gridcolor": "white",
           "linecolor": "white",
           "ticks": "",
           "title": {
            "standoff": 15
           },
           "zerolinecolor": "white",
           "zerolinewidth": 2
          }
         }
        },
        "xaxis": {
         "anchor": "y",
         "domain": [
          0,
          1
         ],
         "title": {
          "text": "US"
         }
        },
        "yaxis": {
         "anchor": "x",
         "domain": [
          0,
          1
         ],
         "title": {
          "text": "India"
         }
        }
       }
      },
      "text/html": [
       "<div>                            <div id=\"5c0a13d7-4d32-44f9-8328-46830a1e6134\" class=\"plotly-graph-div\" style=\"height:525px; width:100%;\"></div>            <script type=\"text/javascript\">                require([\"plotly\"], function(Plotly) {                    window.PLOTLYENV=window.PLOTLYENV || {};                                    if (document.getElementById(\"5c0a13d7-4d32-44f9-8328-46830a1e6134\")) {                    Plotly.newPlot(                        \"5c0a13d7-4d32-44f9-8328-46830a1e6134\",                        [{\"coloraxis\":\"coloraxis\",\"hovertemplate\":\"US=%{x}<br>India=%{y}<br>count=%{z}<extra></extra>\",\"name\":\"\",\"nbinsx\":10,\"nbinsy\":10,\"x\":[41,402,1121455,19982229,45414977,64902919,111253103,166651874,199761725,251586955,339194014,528967240,734394844,777268966,920062118,948094486,1023760647,1008080762,1061610660,1151227645,1250529351,1393213805,1420265527,1578944786,2047241248,2181430604,2472759123,2423754980,2569288645,2582325795,2775929760,2887098278,2866182755,3006021205,1860837159],\"xaxis\":\"x\",\"xbingroup\":\"x\",\"y\":[2,84,10252,447607,3088494,10951713,32829678,82734792,151735176,228641810,265835139,308005491,326927936,305984490,357487053,447598593,760936972,886909272,962880627,999760992,1000653633,1055797723,1033703398,1076434872,1168520007,1192162187,1332839131,1291386605,1336835898,1298514945,1356350334,1372465208,1335670358,1383471408,848608057],\"yaxis\":\"y\",\"ybingroup\":\"y\",\"type\":\"histogram2d\"}],                        {\"template\":{\"data\":{\"histogram2dcontour\":[{\"type\":\"histogram2dcontour\",\"colorbar\":{\"outlinewidth\":0,\"ticks\":\"\"},\"colorscale\":[[0.0,\"#0d0887\"],[0.1111111111111111,\"#46039f\"],[0.2222222222222222,\"#7201a8\"],[0.3333333333333333,\"#9c179e\"],[0.4444444444444444,\"#bd3786\"],[0.5555555555555556,\"#d8576b\"],[0.6666666666666666,\"#ed7953\"],[0.7777777777777778,\"#fb9f3a\"],[0.8888888888888888,\"#fdca26\"],[1.0,\"#f0f921\"]]}],\"choropleth\":[{\"type\":\"choropleth\",\"colorbar\":{\"outlinewidth\":0,\"ticks\":\"\"}}],\"histogram2d\":[{\"type\":\"histogram2d\",\"colorbar\":{\"outlinewidth\":0,\"ticks\":\"\"},\"colorscale\":[[0.0,\"#0d0887\"],[0.1111111111111111,\"#46039f\"],[0.2222222222222222,\"#7201a8\"],[0.3333333333333333,\"#9c179e\"],[0.4444444444444444,\"#bd3786\"],[0.5555555555555556,\"#d8576b\"],[0.6666666666666666,\"#ed7953\"],[0.7777777777777778,\"#fb9f3a\"],[0.8888888888888888,\"#fdca26\"],[1.0,\"#f0f921\"]]}],\"heatmap\":[{\"type\":\"heatmap\",\"colorbar\":{\"outlinewidth\":0,\"ticks\":\"\"},\"colorscale\":[[0.0,\"#0d0887\"],[0.1111111111111111,\"#46039f\"],[0.2222222222222222,\"#7201a8\"],[0.3333333333333333,\"#9c179e\"],[0.4444444444444444,\"#bd3786\"],[0.5555555555555556,\"#d8576b\"],[0.6666666666666666,\"#ed7953\"],[0.7777777777777778,\"#fb9f3a\"],[0.8888888888888888,\"#fdca26\"],[1.0,\"#f0f921\"]]}],\"heatmapgl\":[{\"type\":\"heatmapgl\",\"colorbar\":{\"outlinewidth\":0,\"ticks\":\"\"},\"colorscale\":[[0.0,\"#0d0887\"],[0.1111111111111111,\"#46039f\"],[0.2222222222222222,\"#7201a8\"],[0.3333333333333333,\"#9c179e\"],[0.4444444444444444,\"#bd3786\"],[0.5555555555555556,\"#d8576b\"],[0.6666666666666666,\"#ed7953\"],[0.7777777777777778,\"#fb9f3a\"],[0.8888888888888888,\"#fdca26\"],[1.0,\"#f0f921\"]]}],\"contourcarpet\":[{\"type\":\"contourcarpet\",\"colorbar\":{\"outlinewidth\":0,\"ticks\":\"\"}}],\"contour\":[{\"type\":\"contour\",\"colorbar\":{\"outlinewidth\":0,\"ticks\":\"\"},\"colorscale\":[[0.0,\"#0d0887\"],[0.1111111111111111,\"#46039f\"],[0.2222222222222222,\"#7201a8\"],[0.3333333333333333,\"#9c179e\"],[0.4444444444444444,\"#bd3786\"],[0.5555555555555556,\"#d8576b\"],[0.6666666666666666,\"#ed7953\"],[0.7777777777777778,\"#fb9f3a\"],[0.8888888888888888,\"#fdca26\"],[1.0,\"#f0f921\"]]}],\"surface\":[{\"type\":\"surface\",\"colorbar\":{\"outlinewidth\":0,\"ticks\":\"\"},\"colorscale\":[[0.0,\"#0d0887\"],[0.1111111111111111,\"#46039f\"],[0.2222222222222222,\"#7201a8\"],[0.3333333333333333,\"#9c179e\"],[0.4444444444444444,\"#bd3786\"],[0.5555555555555556,\"#d8576b\"],[0.6666666666666666,\"#ed7953\"],[0.7777777777777778,\"#fb9f3a\"],[0.8888888888888888,\"#fdca26\"],[1.0,\"#f0f921\"]]}],\"mesh3d\":[{\"type\":\"mesh3d\",\"colorbar\":{\"outlinewidth\":0,\"ticks\":\"\"}}],\"scatter\":[{\"fillpattern\":{\"fillmode\":\"overlay\",\"size\":10,\"solidity\":0.2},\"type\":\"scatter\"}],\"parcoords\":[{\"type\":\"parcoords\",\"line\":{\"colorbar\":{\"outlinewidth\":0,\"ticks\":\"\"}}}],\"scatterpolargl\":[{\"type\":\"scatterpolargl\",\"marker\":{\"colorbar\":{\"outlinewidth\":0,\"ticks\":\"\"}}}],\"bar\":[{\"error_x\":{\"color\":\"#2a3f5f\"},\"error_y\":{\"color\":\"#2a3f5f\"},\"marker\":{\"line\":{\"color\":\"#E5ECF6\",\"width\":0.5},\"pattern\":{\"fillmode\":\"overlay\",\"size\":10,\"solidity\":0.2}},\"type\":\"bar\"}],\"scattergeo\":[{\"type\":\"scattergeo\",\"marker\":{\"colorbar\":{\"outlinewidth\":0,\"ticks\":\"\"}}}],\"scatterpolar\":[{\"type\":\"scatterpolar\",\"marker\":{\"colorbar\":{\"outlinewidth\":0,\"ticks\":\"\"}}}],\"histogram\":[{\"marker\":{\"pattern\":{\"fillmode\":\"overlay\",\"size\":10,\"solidity\":0.2}},\"type\":\"histogram\"}],\"scattergl\":[{\"type\":\"scattergl\",\"marker\":{\"colorbar\":{\"outlinewidth\":0,\"ticks\":\"\"}}}],\"scatter3d\":[{\"type\":\"scatter3d\",\"line\":{\"colorbar\":{\"outlinewidth\":0,\"ticks\":\"\"}},\"marker\":{\"colorbar\":{\"outlinewidth\":0,\"ticks\":\"\"}}}],\"scattermapbox\":[{\"type\":\"scattermapbox\",\"marker\":{\"colorbar\":{\"outlinewidth\":0,\"ticks\":\"\"}}}],\"scatterternary\":[{\"type\":\"scatterternary\",\"marker\":{\"colorbar\":{\"outlinewidth\":0,\"ticks\":\"\"}}}],\"scattercarpet\":[{\"type\":\"scattercarpet\",\"marker\":{\"colorbar\":{\"outlinewidth\":0,\"ticks\":\"\"}}}],\"carpet\":[{\"aaxis\":{\"endlinecolor\":\"#2a3f5f\",\"gridcolor\":\"white\",\"linecolor\":\"white\",\"minorgridcolor\":\"white\",\"startlinecolor\":\"#2a3f5f\"},\"baxis\":{\"endlinecolor\":\"#2a3f5f\",\"gridcolor\":\"white\",\"linecolor\":\"white\",\"minorgridcolor\":\"white\",\"startlinecolor\":\"#2a3f5f\"},\"type\":\"carpet\"}],\"table\":[{\"cells\":{\"fill\":{\"color\":\"#EBF0F8\"},\"line\":{\"color\":\"white\"}},\"header\":{\"fill\":{\"color\":\"#C8D4E3\"},\"line\":{\"color\":\"white\"}},\"type\":\"table\"}],\"barpolar\":[{\"marker\":{\"line\":{\"color\":\"#E5ECF6\",\"width\":0.5},\"pattern\":{\"fillmode\":\"overlay\",\"size\":10,\"solidity\":0.2}},\"type\":\"barpolar\"}],\"pie\":[{\"automargin\":true,\"type\":\"pie\"}]},\"layout\":{\"autotypenumbers\":\"strict\",\"colorway\":[\"#636efa\",\"#EF553B\",\"#00cc96\",\"#ab63fa\",\"#FFA15A\",\"#19d3f3\",\"#FF6692\",\"#B6E880\",\"#FF97FF\",\"#FECB52\"],\"font\":{\"color\":\"#2a3f5f\"},\"hovermode\":\"closest\",\"hoverlabel\":{\"align\":\"left\"},\"paper_bgcolor\":\"white\",\"plot_bgcolor\":\"#E5ECF6\",\"polar\":{\"bgcolor\":\"#E5ECF6\",\"angularaxis\":{\"gridcolor\":\"white\",\"linecolor\":\"white\",\"ticks\":\"\"},\"radialaxis\":{\"gridcolor\":\"white\",\"linecolor\":\"white\",\"ticks\":\"\"}},\"ternary\":{\"bgcolor\":\"#E5ECF6\",\"aaxis\":{\"gridcolor\":\"white\",\"linecolor\":\"white\",\"ticks\":\"\"},\"baxis\":{\"gridcolor\":\"white\",\"linecolor\":\"white\",\"ticks\":\"\"},\"caxis\":{\"gridcolor\":\"white\",\"linecolor\":\"white\",\"ticks\":\"\"}},\"coloraxis\":{\"colorbar\":{\"outlinewidth\":0,\"ticks\":\"\"}},\"colorscale\":{\"sequential\":[[0.0,\"#0d0887\"],[0.1111111111111111,\"#46039f\"],[0.2222222222222222,\"#7201a8\"],[0.3333333333333333,\"#9c179e\"],[0.4444444444444444,\"#bd3786\"],[0.5555555555555556,\"#d8576b\"],[0.6666666666666666,\"#ed7953\"],[0.7777777777777778,\"#fb9f3a\"],[0.8888888888888888,\"#fdca26\"],[1.0,\"#f0f921\"]],\"sequentialminus\":[[0.0,\"#0d0887\"],[0.1111111111111111,\"#46039f\"],[0.2222222222222222,\"#7201a8\"],[0.3333333333333333,\"#9c179e\"],[0.4444444444444444,\"#bd3786\"],[0.5555555555555556,\"#d8576b\"],[0.6666666666666666,\"#ed7953\"],[0.7777777777777778,\"#fb9f3a\"],[0.8888888888888888,\"#fdca26\"],[1.0,\"#f0f921\"]],\"diverging\":[[0,\"#8e0152\"],[0.1,\"#c51b7d\"],[0.2,\"#de77ae\"],[0.3,\"#f1b6da\"],[0.4,\"#fde0ef\"],[0.5,\"#f7f7f7\"],[0.6,\"#e6f5d0\"],[0.7,\"#b8e186\"],[0.8,\"#7fbc41\"],[0.9,\"#4d9221\"],[1,\"#276419\"]]},\"xaxis\":{\"gridcolor\":\"white\",\"linecolor\":\"white\",\"ticks\":\"\",\"title\":{\"standoff\":15},\"zerolinecolor\":\"white\",\"automargin\":true,\"zerolinewidth\":2},\"yaxis\":{\"gridcolor\":\"white\",\"linecolor\":\"white\",\"ticks\":\"\",\"title\":{\"standoff\":15},\"zerolinecolor\":\"white\",\"automargin\":true,\"zerolinewidth\":2},\"scene\":{\"xaxis\":{\"backgroundcolor\":\"#E5ECF6\",\"gridcolor\":\"white\",\"linecolor\":\"white\",\"showbackground\":true,\"ticks\":\"\",\"zerolinecolor\":\"white\",\"gridwidth\":2},\"yaxis\":{\"backgroundcolor\":\"#E5ECF6\",\"gridcolor\":\"white\",\"linecolor\":\"white\",\"showbackground\":true,\"ticks\":\"\",\"zerolinecolor\":\"white\",\"gridwidth\":2},\"zaxis\":{\"backgroundcolor\":\"#E5ECF6\",\"gridcolor\":\"white\",\"linecolor\":\"white\",\"showbackground\":true,\"ticks\":\"\",\"zerolinecolor\":\"white\",\"gridwidth\":2}},\"shapedefaults\":{\"line\":{\"color\":\"#2a3f5f\"}},\"annotationdefaults\":{\"arrowcolor\":\"#2a3f5f\",\"arrowhead\":0,\"arrowwidth\":1},\"geo\":{\"bgcolor\":\"white\",\"landcolor\":\"#E5ECF6\",\"subunitcolor\":\"white\",\"showland\":true,\"showlakes\":true,\"lakecolor\":\"white\"},\"title\":{\"x\":0.05},\"mapbox\":{\"style\":\"light\"}}},\"xaxis\":{\"anchor\":\"y\",\"domain\":[0.0,1.0],\"title\":{\"text\":\"US\"}},\"yaxis\":{\"anchor\":\"x\",\"domain\":[0.0,1.0],\"title\":{\"text\":\"India\"}},\"coloraxis\":{\"colorbar\":{\"title\":{\"text\":\"count\"}},\"colorscale\":[[0.0,\"#440154\"],[0.1111111111111111,\"#482878\"],[0.2222222222222222,\"#3e4989\"],[0.3333333333333333,\"#31688e\"],[0.4444444444444444,\"#26828e\"],[0.5555555555555556,\"#1f9e89\"],[0.6666666666666666,\"#35b779\"],[0.7777777777777778,\"#6ece58\"],[0.8888888888888888,\"#b5de2b\"],[1.0,\"#fde725\"]]},\"legend\":{\"tracegroupgap\":0},\"margin\":{\"t\":60}},                        {\"responsive\": true}                    ).then(function(){\n",
       "                            \n",
       "var gd = document.getElementById('5c0a13d7-4d32-44f9-8328-46830a1e6134');\n",
       "var x = new MutationObserver(function (mutations, observer) {{\n",
       "        var display = window.getComputedStyle(gd).display;\n",
       "        if (!display || display === 'none') {{\n",
       "            console.log([gd, 'removed!']);\n",
       "            Plotly.purge(gd);\n",
       "            observer.disconnect();\n",
       "        }}\n",
       "}});\n",
       "\n",
       "// Listen for the removal of the full notebook cells\n",
       "var notebookContainer = gd.closest('#notebook-container');\n",
       "if (notebookContainer) {{\n",
       "    x.observe(notebookContainer, {childList: true});\n",
       "}}\n",
       "\n",
       "// Listen for the clearing of the current output cell\n",
       "var outputEl = gd.closest('.output');\n",
       "if (outputEl) {{\n",
       "    x.observe(outputEl, {childList: true});\n",
       "}}\n",
       "\n",
       "                        })                };                });            </script>        </div>"
      ]
     },
     "metadata": {},
     "output_type": "display_data"
    }
   ],
   "source": [
    "px.density_heatmap(cases_confirmed, y=\"India\", x=\"US\", nbinsx=10, nbinsy=10, color_continuous_scale = 'viridis')"
   ]
  },
  {
   "cell_type": "code",
   "execution_count": null,
   "id": "43b82c8f-708b-49e6-bf77-f7eaff147eac",
   "metadata": {},
   "outputs": [],
   "source": []
  }
 ],
 "metadata": {
  "kernelspec": {
   "display_name": "Python 3 (ipykernel)",
   "language": "python",
   "name": "python3"
  },
  "language_info": {
   "codemirror_mode": {
    "name": "ipython",
    "version": 3
   },
   "file_extension": ".py",
   "mimetype": "text/x-python",
   "name": "python",
   "nbconvert_exporter": "python",
   "pygments_lexer": "ipython3",
   "version": "3.11.2"
  }
 },
 "nbformat": 4,
 "nbformat_minor": 5
}
